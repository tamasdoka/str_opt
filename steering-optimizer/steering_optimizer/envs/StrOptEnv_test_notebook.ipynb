{
 "cells": [
  {
   "cell_type": "code",
   "execution_count": 1,
   "metadata": {},
   "outputs": [],
   "source": [
    "import optimizer_env as st\n",
    "import numpy as np\n",
    "import matplotlib\n",
    "import matplotlib.pyplot as plt\n",
    "%matplotlib inline  \n",
    "\n",
    "env = st.StrOptEnv()"
   ]
  },
  {
   "cell_type": "code",
   "execution_count": 2,
   "metadata": {},
   "outputs": [],
   "source": [
    "env.reset()\n",
    "#env.step(1)\n",
    "\n",
    "reward = np.array([])\n"
   ]
  },
  {
   "cell_type": "code",
   "execution_count": 3,
   "metadata": {},
   "outputs": [],
   "source": [
    "for i in range(100):\n",
    "    act = np.random.randint(0,8)\n",
    "    #act = 2\n",
    "    valami = env.reset()\n",
    "    env.step(act)\n",
    "    #valami = env.step(act)[0]\n",
    "    #plt.plot([env.KPLX, env.state[2], env.state[0], -env.state[0]], [env.KPLY, env.state[3], env.state[1], env.state[1]])\n",
    "    #plt.show\n",
    "    #print(i,'error_mod' , env.check_error)\n",
    "    #print(i,'r_array_mod', env.check_r)\n",
    "\n",
    "plt.show()"
   ]
  },
  {
   "cell_type": "code",
   "execution_count": 4,
   "metadata": {},
   "outputs": [
    {
     "data": {
      "image/png": "[encoded data removed]",
      "text/plain": [
       "<Figure size 432x288 with 1 Axes>"
      ]
     },
     "metadata": {
      "needs_background": "light"
     },
     "output_type": "display_data"
    }
   ],
   "source": [
    "val = np.array([-143.29653761616194, -210.48937006452775, -393.9251826676589, -98.40358821908029])\n",
    "\n",
    "plt.plot([env.KPLX, val[2], val[0], -val[0]], [env.KPLY, val[3], val[1], val[1]])\n",
    "\n",
    "env.check_error\n",
    "\n",
    "env.state = val"
   ]
  },
  {
   "cell_type": "code",
   "execution_count": 5,
   "metadata": {},
   "outputs": [
    {
     "data": {
      "text/plain": [
       "(array([-143.29653762, -210.48937006, -393.92518267,  -98.40358822]),\n",
       " 0.19376589497409039,\n",
       " False,\n",
       " {})"
      ]
     },
     "execution_count": 5,
     "metadata": {},
     "output_type": "execute_result"
    }
   ],
   "source": [
    "env.step(8)\n",
    "env."
   ]
  },
  {
   "cell_type": "code",
   "execution_count": null,
   "metadata": {},
   "outputs": [],
   "source": [
    "print(env.state)\n",
    "#plt.plot([env.KPLX, env.state[2], env.state[0], -env.state[0]], [env.KPLY, env.state[3], env.state[1], env.state[1]])\n",
    "print([env.KPLX, env.state[2], env.state[0], -env.state[0]], [env.KPLY, env.state[3], env.state[1], env.state[1]])\n",
    "env.step(2)[0]\n",
    "#plt.plot([env.KPLX, env.state[2], env.state[0], -env.state[0]], [env.KPLY, env.state[3], env.state[1], env.state[1]])\n",
    "print([env.KPLX, env.state[2], env.state[0], -env.state[0]], [env.KPLY, env.state[3], env.state[1], env.state[1]])"
   ]
  },
  {
   "cell_type": "code",
   "execution_count": null,
   "metadata": {},
   "outputs": [],
   "source": [
    "import numpy as np\n",
    "import matplotlib\n",
    "import matplotlib.pyplot as plt\n",
    "%matplotlib inline  \n",
    "\n",
    "#plt.plot(env.b0_array + env.KPLX, env.b1_array + env.KPLY)\n",
    "#plt.plot(env.b2_array + env.KPLX, env.b3_array + env.KPLY)\n",
    "#plt.plot(env.b4_array + env.KPLX, env.b5_array)\n",
    "#plt.plot(env.b6_array + env.KPLX, env.b7_array)\n",
    "\n",
    "#plt.plot([env.KPLX, env.Ax0, env.Dx, -env.Dx], [env.KPLY, env.Ay0, env.Dy, env.Dy])\n",
    "#plt.plot(env.z_array, env.b1_array/np.pi*180)\n",
    "#plt.plot(np.flip(env.z_array, 0), env.r_array/2/np.pi*180)\n",
    "plt.plot(reward)\n",
    "#plt.axis('equal')\n",
    "plt.show()"
   ]
  },
  {
   "cell_type": "code",
   "execution_count": null,
   "metadata": {},
   "outputs": [],
   "source": [
    "plt.plot(env.z_array, env.r_array/np.pi*180)\n",
    "plt.plot(env.z_array, env.l_array/np.pi*180)\n",
    "plt.plot(env.z_array, env.k_array/np.pi*180)\n"
   ]
  },
  {
   "cell_type": "code",
   "execution_count": null,
   "metadata": {},
   "outputs": [],
   "source": [
    "print(env.k_array[0]/np.pi*180)\n",
    "print(env.r_array[0]/np.pi*180)"
   ]
  },
  {
   "cell_type": "code",
   "execution_count": null,
   "metadata": {},
   "outputs": [],
   "source": [
    "env.k_array"
   ]
  },
  {
   "cell_type": "code",
   "execution_count": null,
   "metadata": {},
   "outputs": [],
   "source": [
    "plt.plot(env.r_array, (env.l_array - env.r_array))\n",
    "plt.plot(env.r_array, (env.k_array - env.r_array))"
   ]
  },
  {
   "cell_type": "code",
   "execution_count": null,
   "metadata": {},
   "outputs": [],
   "source": [
    "plt.plot(env.r_array, ((env.k_array - env.l_array)**2))"
   ]
  },
  {
   "cell_type": "code",
   "execution_count": null,
   "metadata": {},
   "outputs": [],
   "source": [
    "env.tr_eval"
   ]
  },
  {
   "cell_type": "code",
   "execution_count": null,
   "metadata": {},
   "outputs": [],
   "source": [
    "env.error"
   ]
  },
  {
   "cell_type": "code",
   "execution_count": null,
   "metadata": {},
   "outputs": [],
   "source": [
    "import timeit\n",
    "import numpy as np\n",
    "\n",
    "start = timeit.default_timer()\n",
    "\n",
    "o = np.empty([])\n",
    "oo = np.empty([])\n",
    "\n",
    "i = 1\n",
    "for i in range(100):\n",
    "    env.step(-100 + 2*i)\n",
    "    o = np.append(o, env.error)\n",
    "    oo = np.append(oo, env.error_orig)\n",
    "    \n",
    "    plt.plot(env.r_array/np.pi*180, env.error_array/np.pi*180)\n",
    "    plt.axvline(x=env.border_ang/np.pi*180)\n",
    "    i += 1\n",
    "    \n",
    "stop = timeit.default_timer()\n",
    "print('Time: ', stop - start)\n",
    "\n",
    "plt.figure()\n",
    "plt.plot(o[1:], '.')\n",
    "plt.plot(oo[1:], '.')\n",
    "\n",
    "\n"
   ]
  },
  {
   "cell_type": "code",
   "execution_count": null,
   "metadata": {},
   "outputs": [],
   "source": [
    "env.border_ang/np.pi*180"
   ]
  },
  {
   "cell_type": "code",
   "execution_count": null,
   "metadata": {},
   "outputs": [],
   "source": [
    "env.step(0)"
   ]
  },
  {
   "cell_type": "code",
   "execution_count": null,
   "metadata": {},
   "outputs": [],
   "source": [
    "len(env.error_array)"
   ]
  },
  {
   "cell_type": "code",
   "execution_count": null,
   "metadata": {},
   "outputs": [],
   "source": [
    "len(env.r_array)"
   ]
  },
  {
   "cell_type": "code",
   "execution_count": null,
   "metadata": {},
   "outputs": [],
   "source": [
    "np.trapz(env.error_array, env.r_array)"
   ]
  },
  {
   "cell_type": "code",
   "execution_count": null,
   "metadata": {},
   "outputs": [],
   "source": [
    "plt.figure()\n",
    "plt.plot(env.r_array[0:len(env.error_array)-env.int_chk], o[1:len(env.error_array)-env.int_chk+1], '.')\n",
    "plt.plot(env.r_array, oo[1:], '.')\n",
    "\n",
    "\n"
   ]
  },
  {
   "cell_type": "code",
   "execution_count": null,
   "metadata": {},
   "outputs": [],
   "source": [
    "env.int_chk"
   ]
  },
  {
   "cell_type": "code",
   "execution_count": null,
   "metadata": {},
   "outputs": [],
   "source": [
    "plt.plot(env.r_array/np.pi*180, env.error_array/np.pi*180)\n",
    "plt.axvline(x=env.border_ang/np.pi*180)"
   ]
  },
  {
   "cell_type": "code",
   "execution_count": null,
   "metadata": {},
   "outputs": [],
   "source": [
    "result = {\n",
    "  'a': lambda x: env.Dx = env.Dx + x,\n",
    "  'b': lambda x: x + 7,\n",
    "}['a'](5)"
   ]
  },
  {
   "cell_type": "code",
   "execution_count": null,
   "metadata": {},
   "outputs": [],
   "source": [
    "from scipy.interpolate import interp1d\n",
    "\n",
    "import numpy as np\n",
    "x = np.array([0.5156312644066778, 0.526040469557302])\n",
    "y = np.array([0.007969681162248856, 0.0154360504511115])\n",
    "\n",
    "f = interp1d(x,y)\n",
    "\n"
   ]
  },
  {
   "cell_type": "code",
   "execution_count": null,
   "metadata": {},
   "outputs": [],
   "source": [
    "f(0.5161168102504706)"
   ]
  },
  {
   "cell_type": "code",
   "execution_count": null,
   "metadata": {},
   "outputs": [],
   "source": []
  }
 ],
 "metadata": {
  "kernelspec": {
   "display_name": "Python 3",
   "language": "python",
   "name": "python3"
  },
  "language_info": {
   "codemirror_mode": {
    "name": "ipython",
    "version": 3
   },
   "file_extension": ".py",
   "mimetype": "text/x-python",
   "name": "python",
   "nbconvert_exporter": "python",
   "pygments_lexer": "ipython3",
   "version": "3.7.4"
  }
 },
 "nbformat": 4,
 "nbformat_minor": 2
}
