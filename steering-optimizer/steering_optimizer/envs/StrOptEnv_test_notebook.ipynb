{
 "cells": [
  {
   "cell_type": "code",
   "execution_count": 1,
   "metadata": {},
   "outputs": [
    {
     "name": "stdout",
     "output_type": "stream",
     "text": [
      "29.571314963106314\n"
     ]
    }
   ],
   "source": [
    "import optimizer_env as st\n",
    "import numpy as np\n",
    "import matplotlib\n",
    "import matplotlib.pyplot as plt\n",
    "import time\n",
    "\n",
    "%matplotlib inline  \n",
    "\n",
    "env = st.StrOptEnv()\n",
    "\n",
    "env.reset()\n",
    "\n",
    "print(env.border_ang*180/np.pi)"
   ]
  },
  {
   "cell_type": "code",
   "execution_count": 2,
   "metadata": {},
   "outputs": [],
   "source": [
    "env.render()\n",
    "time.sleep(3)\n",
    "env.close()"
   ]
  },
  {
   "cell_type": "code",
   "execution_count": null,
   "metadata": {},
   "outputs": [],
   "source": [
    "tot_rews = []\n",
    "\n",
    "for k in range (200):\n",
    "    env.reset()\n",
    "    total_reward = 0\n",
    "    rews = []\n",
    "    actions = []\n",
    "    errors = []\n",
    "    states = []\n",
    "    count = 0\n",
    "    for i in range(100):\n",
    "        count += 2\n",
    "        #print(count)\n",
    "        #act = 2\n",
    "        act = np.random.randint(0,9)\n",
    "        \n",
    "        actions.append(act)\n",
    "        #valami = env.reset()\n",
    "        #env.reset()            \n",
    "        val = env.step(act)\n",
    "        #print('reward: ',val[1])\n",
    "        #print('done: ',val[2])\n",
    "        \n",
    "        total_reward += val[1]\n",
    "        \n",
    "        rews.append(total_reward)\n",
    "        errors.append(env.error)\n",
    "        states.append(env.state)\n",
    "        \n",
    "        if val[2]:\n",
    "            break\n",
    "        \n",
    "    #valami = env.step(act)[0]\n",
    "    #env.save_plot(env.check_error, env.check_r)\n",
    "    #plt.plot([env.KPLX, env.state[2], env.state[0], -env.state[0]], [env.KPLY, env.state[3], env.state[1], env.state[1]])\n",
    "    #plt.show\n",
    "    #print(i,'error_mod' , env.check_error)\n",
    "    #print(i,'r_array_mod', env.check_r)\n",
    "\n",
    "    #plt.show()\n",
    "\n",
    "    #print(env.state)\n",
    "\n",
    "    #print(env.rack_travel)\n",
    "    #print('total_reward: ', total_reward)\n",
    "    \n",
    "    #plt.plot(np.sort(np.asarray(actions), axis=None))\n",
    "    \n",
    "    #plt.figure()\n",
    "    #print('TOTAL REWARD:')\n",
    "    #plt.plot(rews, 'bo-')\n",
    "    \n",
    "    tot_rews.append(total_reward)\n",
    "\n",
    "plt.figure()\n",
    "print('TOTAL REWARD:')\n",
    "plt.plot(tot_rews, 'bo-')\n"
   ]
  },
  {
   "cell_type": "code",
   "execution_count": null,
   "metadata": {},
   "outputs": [],
   "source": [
    "plt.figure()\n",
    "print('ERRORS:')\n",
    "plt.plot(errors, 'bo-')"
   ]
  },
  {
   "cell_type": "code",
   "execution_count": null,
   "metadata": {},
   "outputs": [],
   "source": [
    "#val = [-107.72086045066183, -582.2397754986916, -476.08961189227915, 36.597884419336005]\n",
    "#val = solution.x\n",
    "val = states[0]\n",
    "\n",
    "plt.plot([env.KPLX, val[2], val[0], -val[0], -val[2], -env.KPLX], [env.KPLY, val[3], val[1], val[1], val[3], env.KPLY], 'bo')\n",
    "plt.plot([env.KPLX, val[2], val[0], -val[0], -val[2], -env.KPLX], [env.KPLY, val[3], val[1], val[1], val[3], env.KPLY])\n",
    "plt.axis('equal')\n",
    "\n",
    "env.state = val\n",
    "\n",
    "env.step(1)\n",
    "\n",
    "#print('error: ', env.error)\n",
    "\n",
    "plt.figure()\n",
    "plt.plot(env.check_r*180/np.pi, env.check_error*180/np.pi)\n",
    "plt.axvline(x=env.border_ang / np.pi * 180)\n",
    "#plt.axis([-2, (env.border_ang / np.pi * 180) + 1, 0, 3])\n",
    "\n",
    "\n",
    "#print(env.check_r*180/np.pi)\n",
    "print(env.rack_travel)\n",
    "\n",
    "plt.figure()\n",
    "plt.plot(env.check_r*180/np.pi)\n",
    "\n",
    "#print(env.check_r/np.pi*180)\n",
    "#print(env.check_error/np.pi*180)"
   ]
  },
  {
   "cell_type": "code",
   "execution_count": null,
   "metadata": {},
   "outputs": [],
   "source": []
  },
  {
   "cell_type": "code",
   "execution_count": null,
   "metadata": {},
   "outputs": [],
   "source": [
    "solution = env.geometry_optimize()\n",
    "print(solution)\n",
    "\n",
    "arm = np.sqrt((solution.x[2] - env.KPLX)**2 + (solution.x[3] - env.KPLY)**2)\n",
    "\n",
    "angle = np.arctan2(solution.x[3] - env.KPLY, solution.x[2] - env.KPLX)\n",
    "print('ARM: ',arm)\n",
    "print('Angle: ',angle*180/np.pi)\n",
    "print('Travel: ',env.rack_travel)"
   ]
  },
  {
   "cell_type": "code",
   "execution_count": null,
   "metadata": {},
   "outputs": [],
   "source": [
    "val = solution.x\n",
    "#val = env.state\n",
    "\n",
    "plt.plot([env.KPLX, val[2], val[0], -val[0], -val[2], -env.KPLX], [env.KPLY, val[3], val[1], val[1], val[3], env.KPLY], 'bo')\n",
    "plt.plot([env.KPLX, val[2], val[0], -val[0], -val[2], -env.KPLX], [env.KPLY, val[3], val[1], val[1], val[3], env.KPLY])\n",
    "plt.axis('equal')\n",
    "\n",
    "env.state = solution.x\n",
    "\n",
    "env.step(0)\n",
    "\n",
    "print('error: ', env.error)\n",
    "\n",
    "plt.figure()\n",
    "plt.plot(env.check_r*180/np.pi, env.check_error*180/np.pi)\n",
    "plt.axvline(x=env.border_ang / np.pi * 180)\n",
    "plt.axis([10, (env.border_ang / np.pi * 180) + 1, 0, 2])\n",
    "\n",
    "print(env.check_r*180/np.pi)\n",
    "print(env.rack_travel)\n",
    "\n",
    "plt.figure()\n",
    "plt.plot(env.check_r)"
   ]
  },
  {
   "cell_type": "code",
   "execution_count": null,
   "metadata": {},
   "outputs": [],
   "source": [
    "print(env.reset())\n",
    "\n",
    "for i in range(env.action_space.n):\n",
    "    print(env.step(i))\n",
    "    print(env.error)\n",
    "\n",
    "\n",
    "#reward = np.array([])\n",
    "\n",
    "total_reward = 0\n",
    "\n",
    "actions = []\n"
   ]
  },
  {
   "cell_type": "code",
   "execution_count": null,
   "metadata": {},
   "outputs": [],
   "source": [
    "print(env.check_error)\n",
    "print(env.check_r)\n",
    "\n",
    "print(np.trapz(env.check_error, env.check_r))\n",
    "\n",
    "plt.plot(env.check_r)\n",
    "\n",
    "print(env.border_ang)"
   ]
  },
  {
   "cell_type": "code",
   "execution_count": null,
   "metadata": {},
   "outputs": [],
   "source": [
    "print(env.state)\n",
    "#plt.plot([env.KPLX, env.state[2], env.state[0], -env.state[0]], [env.KPLY, env.state[3], env.state[1], env.state[1]])\n",
    "print([env.KPLX, env.state[2], env.state[0], -env.state[0]], [env.KPLY, env.state[3], env.state[1], env.state[1]])\n",
    "env.step(2)[0]\n",
    "#plt.plot([env.KPLX, env.state[2], env.state[0], -env.state[0]], [env.KPLY, env.state[3], env.state[1], env.state[1]])\n",
    "print([env.KPLX, env.state[2], env.state[0], -env.state[0]], [env.KPLY, env.state[3], env.state[1], env.state[1]])"
   ]
  },
  {
   "cell_type": "code",
   "execution_count": null,
   "metadata": {},
   "outputs": [],
   "source": [
    "import numpy as np\n",
    "import matplotlib\n",
    "import matplotlib.pyplot as plt\n",
    "%matplotlib inline  \n",
    "\n",
    "#plt.plot(env.b0_array + env.KPLX, env.b1_array + env.KPLY)\n",
    "#plt.plot(env.b2_array + env.KPLX, env.b3_array + env.KPLY)\n",
    "#plt.plot(env.b4_array + env.KPLX, env.b5_array)\n",
    "#plt.plot(env.b6_array + env.KPLX, env.b7_array)\n",
    "\n",
    "#plt.plot([env.KPLX, env.Ax0, env.Dx, -env.Dx], [env.KPLY, env.Ay0, env.Dy, env.Dy])\n",
    "#plt.plot(env.z_array, env.b1_array/np.pi*180)\n",
    "#plt.plot(np.flip(env.z_array, 0), env.r_array/2/np.pi*180)\n",
    "plt.plot(reward)\n",
    "#plt.axis('equal')\n",
    "plt.show()"
   ]
  },
  {
   "cell_type": "code",
   "execution_count": null,
   "metadata": {},
   "outputs": [],
   "source": [
    "plt.plot(env.x_array, env.r_array/np.pi*180)\n",
    "plt.plot(env.x_array, env.l_array/np.pi*180)\n",
    "plt.plot(env.x_array, env.k_array/np.pi*180)\n"
   ]
  },
  {
   "cell_type": "code",
   "execution_count": null,
   "metadata": {},
   "outputs": [],
   "source": [
    "print(env.k_array[0]/np.pi*180)\n",
    "print(env.r_array[0]/np.pi*180)"
   ]
  },
  {
   "cell_type": "code",
   "execution_count": null,
   "metadata": {},
   "outputs": [],
   "source": [
    "env.k_array"
   ]
  },
  {
   "cell_type": "code",
   "execution_count": null,
   "metadata": {},
   "outputs": [],
   "source": [
    "plt.plot(env.r_array, (env.l_array - env.r_array))\n",
    "plt.plot(env.r_array, (env.k_array - env.r_array))"
   ]
  },
  {
   "cell_type": "code",
   "execution_count": null,
   "metadata": {},
   "outputs": [],
   "source": [
    "plt.plot(env.r_array, ((env.k_array - env.l_array)**2))"
   ]
  },
  {
   "cell_type": "code",
   "execution_count": null,
   "metadata": {},
   "outputs": [],
   "source": [
    "env.tr_eval"
   ]
  },
  {
   "cell_type": "code",
   "execution_count": null,
   "metadata": {},
   "outputs": [],
   "source": [
    "env.error"
   ]
  },
  {
   "cell_type": "code",
   "execution_count": null,
   "metadata": {},
   "outputs": [],
   "source": [
    "import timeit\n",
    "import numpy as np\n",
    "\n",
    "start = timeit.default_timer()\n",
    "\n",
    "o = np.empty([])\n",
    "oo = np.empty([])\n",
    "\n",
    "i = 1\n",
    "for i in range(100):\n",
    "    env.step(-100 + 2*i)\n",
    "    o = np.append(o, env.error)\n",
    "    oo = np.append(oo, env.error_orig)\n",
    "    \n",
    "    plt.plot(env.r_array/np.pi*180, env.error_array/np.pi*180)\n",
    "    plt.axvline(x=env.border_ang/np.pi*180)\n",
    "    i += 1\n",
    "    \n",
    "stop = timeit.default_timer()\n",
    "print('Time: ', stop - start)\n",
    "\n",
    "plt.figure()\n",
    "plt.plot(o[1:], '.')\n",
    "plt.plot(oo[1:], '.')\n",
    "\n",
    "\n"
   ]
  },
  {
   "cell_type": "code",
   "execution_count": null,
   "metadata": {},
   "outputs": [],
   "source": [
    "env.border_ang/np.pi*180"
   ]
  },
  {
   "cell_type": "code",
   "execution_count": null,
   "metadata": {},
   "outputs": [],
   "source": [
    "env.step(0)"
   ]
  },
  {
   "cell_type": "code",
   "execution_count": null,
   "metadata": {},
   "outputs": [],
   "source": [
    "len(env.error_array)"
   ]
  },
  {
   "cell_type": "code",
   "execution_count": null,
   "metadata": {},
   "outputs": [],
   "source": [
    "len(env.r_array)"
   ]
  },
  {
   "cell_type": "code",
   "execution_count": null,
   "metadata": {},
   "outputs": [],
   "source": [
    "np.trapz(env.error_array, env.r_array)"
   ]
  },
  {
   "cell_type": "code",
   "execution_count": null,
   "metadata": {},
   "outputs": [],
   "source": [
    "plt.figure()\n",
    "plt.plot(env.r_array[0:len(env.error_array)-env.int_chk], o[1:len(env.error_array)-env.int_chk+1], '.')\n",
    "plt.plot(env.r_array, oo[1:], '.')\n",
    "\n",
    "\n"
   ]
  },
  {
   "cell_type": "code",
   "execution_count": null,
   "metadata": {},
   "outputs": [],
   "source": [
    "env.int_chk"
   ]
  },
  {
   "cell_type": "code",
   "execution_count": null,
   "metadata": {},
   "outputs": [],
   "source": [
    "plt.plot(env.r_array/np.pi*180, env.error_array/np.pi*180)\n",
    "plt.axvline(x=env.border_ang/np.pi*180)"
   ]
  },
  {
   "cell_type": "code",
   "execution_count": null,
   "metadata": {},
   "outputs": [],
   "source": [
    "result = {\n",
    "  'a': lambda x: env.Dx = env.Dx + x,\n",
    "  'b': lambda x: x + 7,\n",
    "}['a'](5)"
   ]
  },
  {
   "cell_type": "code",
   "execution_count": null,
   "metadata": {},
   "outputs": [],
   "source": [
    "from scipy.interpolate import interp1d\n",
    "\n",
    "import numpy as np\n",
    "x = np.array([0.5156312644066778, 0.526040469557302])\n",
    "y = np.array([0.007969681162248856, 0.0154360504511115])\n",
    "\n",
    "f = interp1d(x,y)\n",
    "\n"
   ]
  },
  {
   "cell_type": "code",
   "execution_count": null,
   "metadata": {},
   "outputs": [],
   "source": [
    "def angle_chop(angle):\n",
    "    chop = (angle*180/np.pi) % (np.sign(angle)*180)*np.pi/180\n",
    "    real = -np.sign(angle)*np.pi + chop\n",
    "    return real"
   ]
  },
  {
   "cell_type": "code",
   "execution_count": null,
   "metadata": {},
   "outputs": [],
   "source": [
    "ang = -185 / 180 * np.pi\n",
    "\n",
    "print((ang *180 / np.pi) % (np.sign(ang)*180))\n",
    "print(np.sign(ang)*180)\n",
    "print(ang)"
   ]
  },
  {
   "cell_type": "code",
   "execution_count": null,
   "metadata": {},
   "outputs": [],
   "source": [
    "angle_chop(ang)/np.pi*180"
   ]
  },
  {
   "cell_type": "code",
   "execution_count": null,
   "metadata": {},
   "outputs": [],
   "source": []
  }
 ],
 "metadata": {
  "kernelspec": {
   "display_name": "Python 3",
   "language": "python",
   "name": "python3"
  },
  "language_info": {
   "codemirror_mode": {
    "name": "ipython",
    "version": 3
   },
   "file_extension": ".py",
   "mimetype": "text/x-python",
   "name": "python",
   "nbconvert_exporter": "python",
   "pygments_lexer": "ipython3",
   "version": "3.7.4"
  }
 },
 "nbformat": 4,
 "nbformat_minor": 2
}
