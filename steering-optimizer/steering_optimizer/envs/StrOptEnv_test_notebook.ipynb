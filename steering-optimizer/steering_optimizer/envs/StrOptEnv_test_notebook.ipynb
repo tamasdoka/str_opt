{
 "cells": [
  {
   "cell_type": "code",
   "execution_count": 1,
   "metadata": {},
   "outputs": [],
   "source": [
    "import optimizer_env as st\n",
    "import numpy as np\n",
    "import matplotlib\n",
    "import matplotlib.pyplot as plt\n",
    "%matplotlib inline  \n",
    "\n",
    "env = st.StrOptEnv()"
   ]
  },
  {
   "cell_type": "code",
   "execution_count": 2,
   "metadata": {},
   "outputs": [],
   "source": [
    "env.reset()\n",
    "#env.step(1)\n",
    "\n",
    "reward = np.array([])\n"
   ]
  },
  {
   "cell_type": "code",
   "execution_count": 3,
   "metadata": {},
   "outputs": [
    {
     "name": "stdout",
     "output_type": "stream",
     "text": [
      "[ -93.64337925 -217.14138379 -417.57143654 -102.69045095]\n",
      "[-450.0, -417.5714365428506, -93.64337924704189, 93.64337924704189] [0.0, -102.69045094763973, -217.14138378908805, -217.14138378908805]\n",
      "reward 5.5295017603115255\n",
      "[-450.0, -418.5714365428506, -93.64337924704189, 93.64337924704189] [0.0, -102.69045094763973, -217.14138378908805, -217.14138378908805]\n"
     ]
    }
   ],
   "source": [
    "print(env.state)\n",
    "#plt.plot([env.KPLX, env.state[2], env.state[0], -env.state[0]], [env.KPLY, env.state[3], env.state[1], env.state[1]])\n",
    "print([env.KPLX, env.state[2], env.state[0], -env.state[0]], [env.KPLY, env.state[3], env.state[1], env.state[1]])\n",
    "env.step(2)[0]\n",
    "#plt.plot([env.KPLX, env.state[2], env.state[0], -env.state[0]], [env.KPLY, env.state[3], env.state[1], env.state[1]])\n",
    "print([env.KPLX, env.state[2], env.state[0], -env.state[0]], [env.KPLY, env.state[3], env.state[1], env.state[1]])"
   ]
  },
  {
   "cell_type": "code",
   "execution_count": 4,
   "metadata": {},
   "outputs": [
    {
     "name": "stdout",
     "output_type": "stream",
     "text": [
      "reward 5.662562874236188\n",
      "reward 5.814853859583824\n",
      "reward 5.936386126054324\n",
      "reward 5.706923433612161\n",
      "reward 5.519088093795187\n",
      "reward 5.608671231817416\n",
      "reward 5.707974040765508\n",
      "reward 5.915801636536262\n",
      "reward 6.1614160631956825\n",
      "reward 6.451501732919705\n",
      "reward 6.254892002949983\n",
      "reward 6.559705680380586\n",
      "reward 6.920259832824687\n",
      "reward 7.149348033489202\n",
      "reward 7.460596779273114\n",
      "reward 7.815484970192726\n",
      "reward 8.220669214502001\n",
      "reward 8.683975750936574\n",
      "reward 8.033773554666658\n",
      "reward 7.712625133036518\n",
      "reward 8.379410141207508\n",
      "reward 9.197662918149366\n",
      "reward 10.20565197883935\n",
      "reward 11.449767840731658\n",
      "reward 10.777811167688746\n",
      "reward 10.175449706607466\n",
      "reward 9.635608916602548\n",
      "reward 9.151611211925053\n",
      "reward 8.717326575761552\n",
      "reward 8.32722678635157\n",
      "reward 9.122807436705589\n",
      "reward 10.100487046591523\n",
      "reward 11.30475634730938\n",
      "reward 10.646069921241745\n",
      "reward 10.056211861793662\n",
      "reward 9.527952802326515\n",
      "reward 8.975281130020507\n",
      "reward 8.213081640087989\n",
      "reward 7.819098338501837\n",
      "reward 7.472838372158455\n",
      "reward 7.168061325369264\n",
      "reward 6.899462747846131\n",
      "reward 6.513534381731496\n",
      "reward 6.1941983759823565\n",
      "reward 6.035058048579641\n",
      "reward 5.895107920489994\n",
      "reward 5.772334970801318\n",
      "reward 5.66500870767362\n",
      "reward 5.571637532034504\n",
      "reward 5.429050115102188\n",
      "reward 5.366517230188293\n",
      "reward 5.314103892595437\n",
      "reward 5.271029749521692\n",
      "reward 5.2024584760613335\n",
      "reward 5.155254167395569\n",
      "reward 5.12766080996544\n",
      "reward 5.1183158070780745\n",
      "reward 5.126186559946757\n",
      "reward 5.132626815931375\n",
      "reward 5.150228571677586\n",
      "reward 5.178519723328114\n",
      "reward 5.217136301944755\n",
      "reward 5.265809449806808\n",
      "reward 5.352901378583277\n",
      "reward 5.455228877341451\n",
      "reward 5.538081901754098\n",
      "reward 5.586144745944912\n",
      "reward 5.465640074558879\n",
      "reward 5.392664985216733\n",
      "reward 5.324854753042401\n",
      "reward 5.2622115928024735\n",
      "reward 5.2299074876463445\n",
      "reward 5.199934883030284\n",
      "reward 5.17237238283135\n",
      "reward 5.147303592642274\n",
      "reward 5.124817680380966\n",
      "reward 5.105009995470761\n",
      "reward 5.0879827536424855\n",
      "reward 5.073845795399323\n",
      "reward 5.046776102947617\n",
      "reward 5.060658145902016\n",
      "reward 5.085415478398379\n",
      "reward 5.120662498136855\n",
      "reward 5.190936887360763\n",
      "reward 0.001251119978856059\n",
      "reward 0.0012809201073877478\n",
      "reward 0.0013118311053071973\n",
      "reward 0.001343954665566056\n",
      "reward 0.0013878843481171601\n",
      "reward 0.0014348249673932709\n",
      "reward 0.001433967542165764\n",
      "reward 0.0014846922878335408\n",
      "reward 0.0015256317192248047\n",
      "reward 0.0015696320619953937\n",
      "reward 0.0016173534453684884\n",
      "reward 0.0016697381137880233\n",
      "reward 0.0016344544994203593\n",
      "reward 0.0015851224556088497\n",
      "reward 0.0015255809003655628\n",
      "reward 0.0014844699032924575\n"
     ]
    }
   ],
   "source": [
    "for i in range(100):\n",
    "    act = np.random.randint(0,8)\n",
    "    #act = 2\n",
    "    #valami = env.reset()\n",
    "    valami = env.step(act)[0]\n",
    "    #plt.plot([env.KPLX, env.state[2], env.state[0], -env.state[0]], [env.KPLY, env.state[3], env.state[1], env.state[1]])\n",
    "    #plt.show\n",
    "    #print(i,'error_mod' , env.check_error)\n",
    "    #print(i,'r_array_mod', env.check_r)\n",
    "\n",
    "plt.show()"
   ]
  },
  {
   "cell_type": "code",
   "execution_count": null,
   "metadata": {},
   "outputs": [],
   "source": [
    "plt.plot([env.KPLX, env.state[2], env.state[0], -env.state[0]], [env.KPLY, env.state[3], env.state[1], env.state[1]])\n",
    "\n",
    "\n",
    "\n",
    "\n",
    "\n",
    "\n",
    "\n",
    "env.check_error"
   ]
  },
  {
   "cell_type": "code",
   "execution_count": null,
   "metadata": {},
   "outputs": [],
   "source": [
    "import numpy as np\n",
    "import matplotlib\n",
    "import matplotlib.pyplot as plt\n",
    "%matplotlib inline  \n",
    "\n",
    "#plt.plot(env.b0_array + env.KPLX, env.b1_array + env.KPLY)\n",
    "#plt.plot(env.b2_array + env.KPLX, env.b3_array + env.KPLY)\n",
    "#plt.plot(env.b4_array + env.KPLX, env.b5_array)\n",
    "#plt.plot(env.b6_array + env.KPLX, env.b7_array)\n",
    "\n",
    "#plt.plot([env.KPLX, env.Ax0, env.Dx, -env.Dx], [env.KPLY, env.Ay0, env.Dy, env.Dy])\n",
    "#plt.plot(env.z_array, env.b1_array/np.pi*180)\n",
    "#plt.plot(np.flip(env.z_array, 0), env.r_array/2/np.pi*180)\n",
    "plt.plot(reward)\n",
    "#plt.axis('equal')\n",
    "plt.show()"
   ]
  },
  {
   "cell_type": "code",
   "execution_count": null,
   "metadata": {},
   "outputs": [],
   "source": [
    "plt.plot(env.z_array, env.r_array/np.pi*180)\n",
    "plt.plot(env.z_array, env.l_array/np.pi*180)\n",
    "plt.plot(env.z_array, env.k_array/np.pi*180)\n"
   ]
  },
  {
   "cell_type": "code",
   "execution_count": null,
   "metadata": {},
   "outputs": [],
   "source": [
    "print(env.k_array[0]/np.pi*180)\n",
    "print(env.r_array[0]/np.pi*180)"
   ]
  },
  {
   "cell_type": "code",
   "execution_count": null,
   "metadata": {},
   "outputs": [],
   "source": [
    "env.k_array"
   ]
  },
  {
   "cell_type": "code",
   "execution_count": null,
   "metadata": {},
   "outputs": [],
   "source": [
    "plt.plot(env.r_array, (env.l_array - env.r_array))\n",
    "plt.plot(env.r_array, (env.k_array - env.r_array))"
   ]
  },
  {
   "cell_type": "code",
   "execution_count": null,
   "metadata": {},
   "outputs": [],
   "source": [
    "plt.plot(env.r_array, ((env.k_array - env.l_array)**2))"
   ]
  },
  {
   "cell_type": "code",
   "execution_count": null,
   "metadata": {},
   "outputs": [],
   "source": [
    "env.tr_eval"
   ]
  },
  {
   "cell_type": "code",
   "execution_count": null,
   "metadata": {},
   "outputs": [],
   "source": [
    "env.error"
   ]
  },
  {
   "cell_type": "code",
   "execution_count": null,
   "metadata": {},
   "outputs": [],
   "source": [
    "import timeit\n",
    "import numpy as np\n",
    "\n",
    "start = timeit.default_timer()\n",
    "\n",
    "o = np.empty([])\n",
    "oo = np.empty([])\n",
    "\n",
    "i = 1\n",
    "for i in range(100):\n",
    "    env.step(-100 + 2*i)\n",
    "    o = np.append(o, env.error)\n",
    "    oo = np.append(oo, env.error_orig)\n",
    "    \n",
    "    plt.plot(env.r_array/np.pi*180, env.error_array/np.pi*180)\n",
    "    plt.axvline(x=env.border_ang/np.pi*180)\n",
    "    i += 1\n",
    "    \n",
    "stop = timeit.default_timer()\n",
    "print('Time: ', stop - start)\n",
    "\n",
    "plt.figure()\n",
    "plt.plot(o[1:], '.')\n",
    "plt.plot(oo[1:], '.')\n",
    "\n",
    "\n"
   ]
  },
  {
   "cell_type": "code",
   "execution_count": null,
   "metadata": {},
   "outputs": [],
   "source": [
    "env.border_ang/np.pi*180"
   ]
  },
  {
   "cell_type": "code",
   "execution_count": null,
   "metadata": {},
   "outputs": [],
   "source": [
    "env.step(0)"
   ]
  },
  {
   "cell_type": "code",
   "execution_count": null,
   "metadata": {},
   "outputs": [],
   "source": [
    "len(env.error_array)"
   ]
  },
  {
   "cell_type": "code",
   "execution_count": null,
   "metadata": {},
   "outputs": [],
   "source": [
    "len(env.r_array)"
   ]
  },
  {
   "cell_type": "code",
   "execution_count": null,
   "metadata": {},
   "outputs": [],
   "source": [
    "np.trapz(env.error_array, env.r_array)"
   ]
  },
  {
   "cell_type": "code",
   "execution_count": null,
   "metadata": {},
   "outputs": [],
   "source": [
    "plt.figure()\n",
    "plt.plot(env.r_array[0:len(env.error_array)-env.int_chk], o[1:len(env.error_array)-env.int_chk+1], '.')\n",
    "plt.plot(env.r_array, oo[1:], '.')\n",
    "\n",
    "\n"
   ]
  },
  {
   "cell_type": "code",
   "execution_count": null,
   "metadata": {},
   "outputs": [],
   "source": [
    "env.int_chk"
   ]
  },
  {
   "cell_type": "code",
   "execution_count": null,
   "metadata": {},
   "outputs": [],
   "source": [
    "plt.plot(env.r_array/np.pi*180, env.error_array/np.pi*180)\n",
    "plt.axvline(x=env.border_ang/np.pi*180)"
   ]
  },
  {
   "cell_type": "code",
   "execution_count": null,
   "metadata": {},
   "outputs": [],
   "source": [
    "result = {\n",
    "  'a': lambda x: env.Dx = env.Dx + x,\n",
    "  'b': lambda x: x + 7,\n",
    "}['a'](5)"
   ]
  },
  {
   "cell_type": "code",
   "execution_count": null,
   "metadata": {},
   "outputs": [],
   "source": [
    "from scipy.interpolate import interp1d\n",
    "\n",
    "import numpy as np\n",
    "x = np.array([0.5156312644066778, 0.526040469557302])\n",
    "y = np.array([0.007969681162248856, 0.0154360504511115])\n",
    "\n",
    "f = interp1d(x,y)\n",
    "\n"
   ]
  },
  {
   "cell_type": "code",
   "execution_count": null,
   "metadata": {},
   "outputs": [],
   "source": [
    "f(0.5161168102504706)"
   ]
  },
  {
   "cell_type": "code",
   "execution_count": null,
   "metadata": {},
   "outputs": [],
   "source": []
  }
 ],
 "metadata": {
  "kernelspec": {
   "display_name": "Python 3",
   "language": "python",
   "name": "python3"
  },
  "language_info": {
   "codemirror_mode": {
    "name": "ipython",
    "version": 3
   },
   "file_extension": ".py",
   "mimetype": "text/x-python",
   "name": "python",
   "nbconvert_exporter": "python",
   "pygments_lexer": "ipython3",
   "version": "3.7.4"
  }
 },
 "nbformat": 4,
 "nbformat_minor": 2
}
