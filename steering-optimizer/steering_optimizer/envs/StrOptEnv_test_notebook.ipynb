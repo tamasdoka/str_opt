{
 "cells": [
  {
   "cell_type": "code",
   "execution_count": 1,
   "metadata": {},
   "outputs": [],
   "source": [
    "import optimizer_env as st\n",
    "import numpy as np\n",
    "import matplotlib\n",
    "import matplotlib.pyplot as plt\n",
    "%matplotlib inline  \n",
    "\n",
    "env = st.StrOptEnv()"
   ]
  },
  {
   "cell_type": "code",
   "execution_count": 2,
   "metadata": {},
   "outputs": [],
   "source": [
    "env.reset()\n",
    "#env.step(1)\n",
    "\n",
    "reward = np.array([])\n"
   ]
  },
  {
   "cell_type": "code",
   "execution_count": 10,
   "metadata": {},
   "outputs": [
    {
     "name": "stdout",
     "output_type": "stream",
     "text": [
      "reward 4.52750603568058\n",
      "reward 5.757626895969834\n",
      "reward 4.905477974261472\n",
      "reward 4.7486269333641955\n",
      "reward 5.923142111880499\n",
      "reward 5.1647134580591\n",
      "reward 4.968730207019414\n",
      "reward 7.985345723004918\n",
      "reward 4.880986572197878\n",
      "reward 6.322281112746986\n",
      "reward 7.969120654172653\n",
      "reward 4.572957152257724\n",
      "reward 4.571511454941626\n",
      "reward 5.877404484740522\n",
      "reward 5.202888724533875\n",
      "reward 6.025272912831111\n",
      "reward 5.097613079645634\n",
      "reward 5.39423983869467\n",
      "reward 7.494628835473007\n",
      "reward 7.862244742144155\n",
      "reward 5.947679251701013\n",
      "reward 4.922725388486432\n",
      "reward 6.869984595365095\n",
      "reward 5.823033215253436\n",
      "reward 7.233337821013943\n",
      "reward 5.667476837727426\n",
      "reward 8.277091829930956\n",
      "reward 4.515511072937504\n",
      "reward 4.571829143991973\n",
      "reward 5.511506320467462\n",
      "reward 5.777344500091234\n",
      "reward 8.221935252403451\n",
      "reward 6.078039545858528\n",
      "reward 5.487586345238588\n",
      "reward 5.484533857689673\n",
      "reward 5.122261174634722\n",
      "reward 6.840602738599774\n",
      "reward 4.7802561842154905\n",
      "reward 4.909560560302244\n",
      "reward 5.099164138292125\n",
      "reward 5.852518893619962\n",
      "reward 5.521621542424211\n",
      "reward 4.560321049037741\n",
      "reward 5.257567668782741\n",
      "reward 5.274585568446466\n",
      "reward 4.934414227346409\n",
      "reward 7.115145740972519\n",
      "reward 5.034897539044961\n",
      "reward 5.154256638310506\n",
      "reward 4.970592719279548\n",
      "reward 6.609906688756188\n",
      "reward 5.150761163918621\n",
      "reward 7.4414604183859385\n",
      "reward 6.6459001008838285\n",
      "reward 5.715125205143266\n",
      "reward 5.141621958423318\n",
      "reward 6.18826247368882\n",
      "reward 5.014382426730304\n",
      "reward 5.153019422674893\n",
      "reward 4.987836204083939\n",
      "reward 5.952092352071067\n",
      "reward 6.592938225077142\n",
      "reward 6.336034619507943\n",
      "reward 5.733796030667426\n",
      "reward 5.668196120926053\n",
      "reward 4.888240450910948\n",
      "reward 6.299500546775644\n",
      "reward 6.528046579359505\n",
      "reward 5.719902445182015\n",
      "reward 5.01329835437292\n",
      "reward 6.297259247015374\n",
      "reward 6.206004539068159\n",
      "reward 6.0391403475046666\n",
      "reward 4.375471016110719\n",
      "reward 5.190791978805878\n",
      "reward 5.787999131462573\n",
      "reward 5.0467990898998245\n",
      "reward 6.924841434957761\n",
      "reward 5.7816664195813825\n",
      "reward 6.270463394021827\n",
      "reward 5.32454697373327\n",
      "reward 5.7848421096438445\n",
      "reward 6.072099627284169\n",
      "reward 5.157879930028478\n",
      "reward 5.599371126216597\n",
      "reward 4.818105857779554\n",
      "reward 5.055884048789194\n",
      "reward 6.13006373440848\n",
      "reward 5.393423354994052\n",
      "reward 4.799662002951242\n",
      "reward 6.332280142112313\n",
      "reward 4.436064894584311\n",
      "reward 5.077330886903777\n",
      "reward 5.221955130222052\n",
      "reward 4.911476182159278\n",
      "reward 7.413331149951303\n",
      "reward 6.088605060097498\n",
      "reward 4.962876963328003\n",
      "reward 5.924451111177612\n",
      "reward 4.6593017798123\n"
     ]
    }
   ],
   "source": [
    "for i in range(100):\n",
    "    act = np.random.randint(0,8)\n",
    "    #act = 2\n",
    "    valami = env.reset()\n",
    "    env.step(act)\n",
    "    #valami = env.step(act)[0]\n",
    "    #plt.plot([env.KPLX, env.state[2], env.state[0], -env.state[0]], [env.KPLY, env.state[3], env.state[1], env.state[1]])\n",
    "    #plt.show\n",
    "    #print(i,'error_mod' , env.check_error)\n",
    "    #print(i,'r_array_mod', env.check_r)\n",
    "\n",
    "plt.show()"
   ]
  },
  {
   "cell_type": "code",
   "execution_count": null,
   "metadata": {},
   "outputs": [],
   "source": [
    "plt.plot([env.KPLX, env.state[2], env.state[0], -env.state[0]], [env.KPLY, env.state[3], env.state[1], env.state[1]])\n",
    "\n",
    "env.check_error"
   ]
  },
  {
   "cell_type": "code",
   "execution_count": null,
   "metadata": {},
   "outputs": [],
   "source": [
    "print(env.state)\n",
    "#plt.plot([env.KPLX, env.state[2], env.state[0], -env.state[0]], [env.KPLY, env.state[3], env.state[1], env.state[1]])\n",
    "print([env.KPLX, env.state[2], env.state[0], -env.state[0]], [env.KPLY, env.state[3], env.state[1], env.state[1]])\n",
    "env.step(2)[0]\n",
    "#plt.plot([env.KPLX, env.state[2], env.state[0], -env.state[0]], [env.KPLY, env.state[3], env.state[1], env.state[1]])\n",
    "print([env.KPLX, env.state[2], env.state[0], -env.state[0]], [env.KPLY, env.state[3], env.state[1], env.state[1]])"
   ]
  },
  {
   "cell_type": "code",
   "execution_count": null,
   "metadata": {},
   "outputs": [],
   "source": [
    "import numpy as np\n",
    "import matplotlib\n",
    "import matplotlib.pyplot as plt\n",
    "%matplotlib inline  \n",
    "\n",
    "#plt.plot(env.b0_array + env.KPLX, env.b1_array + env.KPLY)\n",
    "#plt.plot(env.b2_array + env.KPLX, env.b3_array + env.KPLY)\n",
    "#plt.plot(env.b4_array + env.KPLX, env.b5_array)\n",
    "#plt.plot(env.b6_array + env.KPLX, env.b7_array)\n",
    "\n",
    "#plt.plot([env.KPLX, env.Ax0, env.Dx, -env.Dx], [env.KPLY, env.Ay0, env.Dy, env.Dy])\n",
    "#plt.plot(env.z_array, env.b1_array/np.pi*180)\n",
    "#plt.plot(np.flip(env.z_array, 0), env.r_array/2/np.pi*180)\n",
    "plt.plot(reward)\n",
    "#plt.axis('equal')\n",
    "plt.show()"
   ]
  },
  {
   "cell_type": "code",
   "execution_count": null,
   "metadata": {},
   "outputs": [],
   "source": [
    "plt.plot(env.z_array, env.r_array/np.pi*180)\n",
    "plt.plot(env.z_array, env.l_array/np.pi*180)\n",
    "plt.plot(env.z_array, env.k_array/np.pi*180)\n"
   ]
  },
  {
   "cell_type": "code",
   "execution_count": null,
   "metadata": {},
   "outputs": [],
   "source": [
    "print(env.k_array[0]/np.pi*180)\n",
    "print(env.r_array[0]/np.pi*180)"
   ]
  },
  {
   "cell_type": "code",
   "execution_count": null,
   "metadata": {},
   "outputs": [],
   "source": [
    "env.k_array"
   ]
  },
  {
   "cell_type": "code",
   "execution_count": null,
   "metadata": {},
   "outputs": [],
   "source": [
    "plt.plot(env.r_array, (env.l_array - env.r_array))\n",
    "plt.plot(env.r_array, (env.k_array - env.r_array))"
   ]
  },
  {
   "cell_type": "code",
   "execution_count": null,
   "metadata": {},
   "outputs": [],
   "source": [
    "plt.plot(env.r_array, ((env.k_array - env.l_array)**2))"
   ]
  },
  {
   "cell_type": "code",
   "execution_count": null,
   "metadata": {},
   "outputs": [],
   "source": [
    "env.tr_eval"
   ]
  },
  {
   "cell_type": "code",
   "execution_count": null,
   "metadata": {},
   "outputs": [],
   "source": [
    "env.error"
   ]
  },
  {
   "cell_type": "code",
   "execution_count": null,
   "metadata": {},
   "outputs": [],
   "source": [
    "import timeit\n",
    "import numpy as np\n",
    "\n",
    "start = timeit.default_timer()\n",
    "\n",
    "o = np.empty([])\n",
    "oo = np.empty([])\n",
    "\n",
    "i = 1\n",
    "for i in range(100):\n",
    "    env.step(-100 + 2*i)\n",
    "    o = np.append(o, env.error)\n",
    "    oo = np.append(oo, env.error_orig)\n",
    "    \n",
    "    plt.plot(env.r_array/np.pi*180, env.error_array/np.pi*180)\n",
    "    plt.axvline(x=env.border_ang/np.pi*180)\n",
    "    i += 1\n",
    "    \n",
    "stop = timeit.default_timer()\n",
    "print('Time: ', stop - start)\n",
    "\n",
    "plt.figure()\n",
    "plt.plot(o[1:], '.')\n",
    "plt.plot(oo[1:], '.')\n",
    "\n",
    "\n"
   ]
  },
  {
   "cell_type": "code",
   "execution_count": null,
   "metadata": {},
   "outputs": [],
   "source": [
    "env.border_ang/np.pi*180"
   ]
  },
  {
   "cell_type": "code",
   "execution_count": null,
   "metadata": {},
   "outputs": [],
   "source": [
    "env.step(0)"
   ]
  },
  {
   "cell_type": "code",
   "execution_count": null,
   "metadata": {},
   "outputs": [],
   "source": [
    "len(env.error_array)"
   ]
  },
  {
   "cell_type": "code",
   "execution_count": null,
   "metadata": {},
   "outputs": [],
   "source": [
    "len(env.r_array)"
   ]
  },
  {
   "cell_type": "code",
   "execution_count": null,
   "metadata": {},
   "outputs": [],
   "source": [
    "np.trapz(env.error_array, env.r_array)"
   ]
  },
  {
   "cell_type": "code",
   "execution_count": null,
   "metadata": {},
   "outputs": [],
   "source": [
    "plt.figure()\n",
    "plt.plot(env.r_array[0:len(env.error_array)-env.int_chk], o[1:len(env.error_array)-env.int_chk+1], '.')\n",
    "plt.plot(env.r_array, oo[1:], '.')\n",
    "\n",
    "\n"
   ]
  },
  {
   "cell_type": "code",
   "execution_count": null,
   "metadata": {},
   "outputs": [],
   "source": [
    "env.int_chk"
   ]
  },
  {
   "cell_type": "code",
   "execution_count": null,
   "metadata": {},
   "outputs": [],
   "source": [
    "plt.plot(env.r_array/np.pi*180, env.error_array/np.pi*180)\n",
    "plt.axvline(x=env.border_ang/np.pi*180)"
   ]
  },
  {
   "cell_type": "code",
   "execution_count": null,
   "metadata": {},
   "outputs": [],
   "source": [
    "result = {\n",
    "  'a': lambda x: env.Dx = env.Dx + x,\n",
    "  'b': lambda x: x + 7,\n",
    "}['a'](5)"
   ]
  },
  {
   "cell_type": "code",
   "execution_count": null,
   "metadata": {},
   "outputs": [],
   "source": [
    "from scipy.interpolate import interp1d\n",
    "\n",
    "import numpy as np\n",
    "x = np.array([0.5156312644066778, 0.526040469557302])\n",
    "y = np.array([0.007969681162248856, 0.0154360504511115])\n",
    "\n",
    "f = interp1d(x,y)\n",
    "\n"
   ]
  },
  {
   "cell_type": "code",
   "execution_count": null,
   "metadata": {},
   "outputs": [],
   "source": [
    "f(0.5161168102504706)"
   ]
  },
  {
   "cell_type": "code",
   "execution_count": null,
   "metadata": {},
   "outputs": [],
   "source": []
  }
 ],
 "metadata": {
  "kernelspec": {
   "display_name": "Python 3",
   "language": "python",
   "name": "python3"
  },
  "language_info": {
   "codemirror_mode": {
    "name": "ipython",
    "version": 3
   },
   "file_extension": ".py",
   "mimetype": "text/x-python",
   "name": "python",
   "nbconvert_exporter": "python",
   "pygments_lexer": "ipython3",
   "version": "3.7.4"
  }
 },
 "nbformat": 4,
 "nbformat_minor": 2
}
