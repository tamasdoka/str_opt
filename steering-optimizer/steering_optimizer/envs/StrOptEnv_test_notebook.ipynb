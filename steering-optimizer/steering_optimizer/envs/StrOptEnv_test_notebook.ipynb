{
 "cells": [
  {
   "cell_type": "code",
   "execution_count": 1,
   "metadata": {},
   "outputs": [],
   "source": [
    "import optimizer_env as st\n",
    "import numpy as np\n",
    "import matplotlib\n",
    "import matplotlib.pyplot as plt\n",
    "%matplotlib inline  \n",
    "\n",
    "env = st.StrOptEnv()"
   ]
  },
  {
   "cell_type": "code",
   "execution_count": 2,
   "metadata": {},
   "outputs": [],
   "source": [
    "env.reset()\n",
    "#env.step(1)\n",
    "\n",
    "reward = np.array([])\n"
   ]
  },
  {
   "cell_type": "code",
   "execution_count": 11,
   "metadata": {},
   "outputs": [
    {
     "name": "stdout",
     "output_type": "stream",
     "text": [
      "reward 7.769321323579052\n",
      "reward 5.120505981827357\n",
      "reward 5.464760484519644\n",
      "reward 6.715817720747628\n",
      "reward 6.237318628237508\n",
      "reward 4.821980189105526\n",
      "reward 7.119385914876857\n",
      "reward 6.611740014349655\n",
      "reward 6.382586136240034\n",
      "reward 5.119592661111207\n",
      "reward 5.642333788078893\n",
      "reward 6.106199770044676\n",
      "reward 4.5655323356494835\n",
      "reward 5.007723109750994\n",
      "reward 4.660496676690836\n",
      "reward 5.034694045241266\n",
      "reward 5.901381554849123\n",
      "reward 4.834153755813169\n",
      "reward 5.6498156721853405\n",
      "reward 5.112880819885281\n",
      "reward 7.133407235311737\n",
      "reward 6.046468498080503\n",
      "reward 8.011041970478963\n",
      "reward 5.639596087883943\n",
      "reward 4.971025670537812\n",
      "reward 7.126244844846364\n",
      "reward 6.004933601229068\n",
      "reward 6.119461642167387\n",
      "reward 4.530589392519569\n",
      "reward 6.053621034914665\n",
      "reward 5.378792399929859\n",
      "reward 5.138239799863191\n",
      "reward 5.478399366123335\n",
      "reward 4.646506712097547\n",
      "reward 6.089348779865235\n",
      "reward 4.900299668785122\n",
      "reward 4.509680650404208\n",
      "reward 5.418205259505899\n",
      "reward 8.560843927064932\n",
      "reward 5.3584757138821\n",
      "reward 7.0875350817830585\n",
      "reward 5.264177696447724\n",
      "reward 4.58521229576437\n",
      "reward 5.377870506871194\n",
      "reward 5.574887557872579\n",
      "reward 4.675720830860193\n",
      "reward 5.3373452080950194\n",
      "reward 5.228771269384004\n",
      "reward 4.93943796320493\n",
      "reward 5.702465244779066\n",
      "reward 4.870208996073413\n",
      "reward 6.250862111814998\n",
      "reward 5.705806129978291\n",
      "reward 6.27313297187664\n",
      "reward 4.926010663996662\n",
      "reward 7.889025663783139\n",
      "reward 4.524044089085713\n",
      "reward 5.7064179739561105\n",
      "reward 5.094866757353992\n",
      "reward 8.019470843145942\n",
      "reward 4.783040992026345\n",
      "reward 5.821602136796503\n",
      "reward 7.703400328111839\n",
      "reward 5.083088667547885\n",
      "reward 5.875661349951308\n",
      "reward 6.066892893235006\n",
      "reward 4.900796107407147\n",
      "reward 5.814435540460679\n",
      "reward 5.970378679370164\n",
      "reward 7.289822354065401\n",
      "reward 8.603713908843503\n",
      "reward 10.116774719579876\n",
      "reward 4.877333220645514\n",
      "reward 7.162485489690333\n",
      "reward 5.644645319652693\n",
      "reward 9.190978326331189\n",
      "reward 5.90622795247515\n",
      "reward 4.655646913340256\n",
      "reward 8.579484010040796\n",
      "reward 6.05414499141561\n",
      "reward 6.601538861257286\n",
      "reward 7.648931627891897\n",
      "reward 5.922635782183572\n",
      "reward 6.517767697320092\n",
      "reward 7.836778710301155\n",
      "reward 6.476780900384882\n",
      "reward 4.9656256946461\n",
      "reward 5.852330213576806\n",
      "reward 6.717852623743681\n",
      "reward 7.539660039061044\n",
      "reward 5.515389222391924\n",
      "reward 4.978866068872838\n",
      "reward 4.985237201253414\n",
      "reward 5.56952693993059\n",
      "reward 5.9744819107113365\n",
      "reward 6.932786300662017\n",
      "reward 5.919288695150827\n",
      "reward 4.525588478689783\n",
      "reward 5.839261988782748\n",
      "reward 4.919080428076012\n"
     ]
    }
   ],
   "source": [
    "for i in range(100):\n",
    "    act = np.random.randint(0,8)\n",
    "    #act = 2\n",
    "    valami = env.reset()\n",
    "    env.step(act)\n",
    "    #valami = env.step(act)[0]\n",
    "    #plt.plot([env.KPLX, env.state[2], env.state[0], -env.state[0]], [env.KPLY, env.state[3], env.state[1], env.state[1]])\n",
    "    #plt.show\n",
    "    #print(i,'error_mod' , env.check_error)\n",
    "    #print(i,'r_array_mod', env.check_r)\n",
    "\n",
    "plt.show()"
   ]
  },
  {
   "cell_type": "code",
   "execution_count": null,
   "metadata": {},
   "outputs": [],
   "source": [
    "plt.plot([env.KPLX, env.state[2], env.state[0], -env.state[0]], [env.KPLY, env.state[3], env.state[1], env.state[1]])\n",
    "\n",
    "env.check_error"
   ]
  },
  {
   "cell_type": "code",
   "execution_count": null,
   "metadata": {},
   "outputs": [],
   "source": [
    "print(env.state)\n",
    "#plt.plot([env.KPLX, env.state[2], env.state[0], -env.state[0]], [env.KPLY, env.state[3], env.state[1], env.state[1]])\n",
    "print([env.KPLX, env.state[2], env.state[0], -env.state[0]], [env.KPLY, env.state[3], env.state[1], env.state[1]])\n",
    "env.step(2)[0]\n",
    "#plt.plot([env.KPLX, env.state[2], env.state[0], -env.state[0]], [env.KPLY, env.state[3], env.state[1], env.state[1]])\n",
    "print([env.KPLX, env.state[2], env.state[0], -env.state[0]], [env.KPLY, env.state[3], env.state[1], env.state[1]])"
   ]
  },
  {
   "cell_type": "code",
   "execution_count": null,
   "metadata": {},
   "outputs": [],
   "source": [
    "import numpy as np\n",
    "import matplotlib\n",
    "import matplotlib.pyplot as plt\n",
    "%matplotlib inline  \n",
    "\n",
    "#plt.plot(env.b0_array + env.KPLX, env.b1_array + env.KPLY)\n",
    "#plt.plot(env.b2_array + env.KPLX, env.b3_array + env.KPLY)\n",
    "#plt.plot(env.b4_array + env.KPLX, env.b5_array)\n",
    "#plt.plot(env.b6_array + env.KPLX, env.b7_array)\n",
    "\n",
    "#plt.plot([env.KPLX, env.Ax0, env.Dx, -env.Dx], [env.KPLY, env.Ay0, env.Dy, env.Dy])\n",
    "#plt.plot(env.z_array, env.b1_array/np.pi*180)\n",
    "#plt.plot(np.flip(env.z_array, 0), env.r_array/2/np.pi*180)\n",
    "plt.plot(reward)\n",
    "#plt.axis('equal')\n",
    "plt.show()"
   ]
  },
  {
   "cell_type": "code",
   "execution_count": null,
   "metadata": {},
   "outputs": [],
   "source": [
    "plt.plot(env.z_array, env.r_array/np.pi*180)\n",
    "plt.plot(env.z_array, env.l_array/np.pi*180)\n",
    "plt.plot(env.z_array, env.k_array/np.pi*180)\n"
   ]
  },
  {
   "cell_type": "code",
   "execution_count": null,
   "metadata": {},
   "outputs": [],
   "source": [
    "print(env.k_array[0]/np.pi*180)\n",
    "print(env.r_array[0]/np.pi*180)"
   ]
  },
  {
   "cell_type": "code",
   "execution_count": null,
   "metadata": {},
   "outputs": [],
   "source": [
    "env.k_array"
   ]
  },
  {
   "cell_type": "code",
   "execution_count": null,
   "metadata": {},
   "outputs": [],
   "source": [
    "plt.plot(env.r_array, (env.l_array - env.r_array))\n",
    "plt.plot(env.r_array, (env.k_array - env.r_array))"
   ]
  },
  {
   "cell_type": "code",
   "execution_count": null,
   "metadata": {},
   "outputs": [],
   "source": [
    "plt.plot(env.r_array, ((env.k_array - env.l_array)**2))"
   ]
  },
  {
   "cell_type": "code",
   "execution_count": null,
   "metadata": {},
   "outputs": [],
   "source": [
    "env.tr_eval"
   ]
  },
  {
   "cell_type": "code",
   "execution_count": null,
   "metadata": {},
   "outputs": [],
   "source": [
    "env.error"
   ]
  },
  {
   "cell_type": "code",
   "execution_count": null,
   "metadata": {},
   "outputs": [],
   "source": [
    "import timeit\n",
    "import numpy as np\n",
    "\n",
    "start = timeit.default_timer()\n",
    "\n",
    "o = np.empty([])\n",
    "oo = np.empty([])\n",
    "\n",
    "i = 1\n",
    "for i in range(100):\n",
    "    env.step(-100 + 2*i)\n",
    "    o = np.append(o, env.error)\n",
    "    oo = np.append(oo, env.error_orig)\n",
    "    \n",
    "    plt.plot(env.r_array/np.pi*180, env.error_array/np.pi*180)\n",
    "    plt.axvline(x=env.border_ang/np.pi*180)\n",
    "    i += 1\n",
    "    \n",
    "stop = timeit.default_timer()\n",
    "print('Time: ', stop - start)\n",
    "\n",
    "plt.figure()\n",
    "plt.plot(o[1:], '.')\n",
    "plt.plot(oo[1:], '.')\n",
    "\n",
    "\n"
   ]
  },
  {
   "cell_type": "code",
   "execution_count": null,
   "metadata": {},
   "outputs": [],
   "source": [
    "env.border_ang/np.pi*180"
   ]
  },
  {
   "cell_type": "code",
   "execution_count": null,
   "metadata": {},
   "outputs": [],
   "source": [
    "env.step(0)"
   ]
  },
  {
   "cell_type": "code",
   "execution_count": null,
   "metadata": {},
   "outputs": [],
   "source": [
    "len(env.error_array)"
   ]
  },
  {
   "cell_type": "code",
   "execution_count": null,
   "metadata": {},
   "outputs": [],
   "source": [
    "len(env.r_array)"
   ]
  },
  {
   "cell_type": "code",
   "execution_count": null,
   "metadata": {},
   "outputs": [],
   "source": [
    "np.trapz(env.error_array, env.r_array)"
   ]
  },
  {
   "cell_type": "code",
   "execution_count": null,
   "metadata": {},
   "outputs": [],
   "source": [
    "plt.figure()\n",
    "plt.plot(env.r_array[0:len(env.error_array)-env.int_chk], o[1:len(env.error_array)-env.int_chk+1], '.')\n",
    "plt.plot(env.r_array, oo[1:], '.')\n",
    "\n",
    "\n"
   ]
  },
  {
   "cell_type": "code",
   "execution_count": null,
   "metadata": {},
   "outputs": [],
   "source": [
    "env.int_chk"
   ]
  },
  {
   "cell_type": "code",
   "execution_count": null,
   "metadata": {},
   "outputs": [],
   "source": [
    "plt.plot(env.r_array/np.pi*180, env.error_array/np.pi*180)\n",
    "plt.axvline(x=env.border_ang/np.pi*180)"
   ]
  },
  {
   "cell_type": "code",
   "execution_count": null,
   "metadata": {},
   "outputs": [],
   "source": [
    "result = {\n",
    "  'a': lambda x: env.Dx = env.Dx + x,\n",
    "  'b': lambda x: x + 7,\n",
    "}['a'](5)"
   ]
  },
  {
   "cell_type": "code",
   "execution_count": null,
   "metadata": {},
   "outputs": [],
   "source": [
    "from scipy.interpolate import interp1d\n",
    "\n",
    "import numpy as np\n",
    "x = np.array([0.5156312644066778, 0.526040469557302])\n",
    "y = np.array([0.007969681162248856, 0.0154360504511115])\n",
    "\n",
    "f = interp1d(x,y)\n",
    "\n"
   ]
  },
  {
   "cell_type": "code",
   "execution_count": null,
   "metadata": {},
   "outputs": [],
   "source": [
    "f(0.5161168102504706)"
   ]
  },
  {
   "cell_type": "code",
   "execution_count": null,
   "metadata": {},
   "outputs": [],
   "source": []
  }
 ],
 "metadata": {
  "kernelspec": {
   "display_name": "Python 3",
   "language": "python",
   "name": "python3"
  },
  "language_info": {
   "codemirror_mode": {
    "name": "ipython",
    "version": 3
   },
   "file_extension": ".py",
   "mimetype": "text/x-python",
   "name": "python",
   "nbconvert_exporter": "python",
   "pygments_lexer": "ipython3",
   "version": "3.7.4"
  }
 },
 "nbformat": 4,
 "nbformat_minor": 2
}
