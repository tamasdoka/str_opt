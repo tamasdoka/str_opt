{
 "cells": [
  {
   "cell_type": "code",
   "execution_count": 1,
   "metadata": {},
   "outputs": [
    {
     "name": "stdout",
     "output_type": "stream",
     "text": [
      "Obtaining file:///C:/Users/asus_strix_scar/Anaconda3/Lib/site-packages/gym/envs/steering-optimizer/steering_optimizer/envs/github/steering-optimizer\n",
      "Requirement already satisfied: gym in c:\\users\\asus_strix_scar\\anaconda3\\lib\\site-packages (from steering-optimizer==0.0.1) (0.15.4)\n",
      "Requirement already satisfied: numpy>=1.10.4 in c:\\users\\asus_strix_scar\\anaconda3\\lib\\site-packages (from gym->steering-optimizer==0.0.1) (1.16.5)\n",
      "Requirement already satisfied: pyglet<=1.3.2,>=1.2.0 in c:\\users\\asus_strix_scar\\anaconda3\\lib\\site-packages (from gym->steering-optimizer==0.0.1) (1.3.2)\n",
      "Requirement already satisfied: six in c:\\users\\asus_strix_scar\\anaconda3\\lib\\site-packages (from gym->steering-optimizer==0.0.1) (1.12.0)\n",
      "Requirement already satisfied: cloudpickle~=1.2.0 in c:\\users\\asus_strix_scar\\anaconda3\\lib\\site-packages (from gym->steering-optimizer==0.0.1) (1.2.2)\n",
      "Requirement already satisfied: opencv-python in c:\\users\\asus_strix_scar\\anaconda3\\lib\\site-packages (from gym->steering-optimizer==0.0.1) (4.1.2.30)\n",
      "Requirement already satisfied: scipy in c:\\users\\asus_strix_scar\\anaconda3\\lib\\site-packages (from gym->steering-optimizer==0.0.1) (1.3.1)\n",
      "Requirement already satisfied: future in c:\\users\\asus_strix_scar\\anaconda3\\lib\\site-packages (from pyglet<=1.3.2,>=1.2.0->gym->steering-optimizer==0.0.1) (0.17.1)\n",
      "Installing collected packages: steering-optimizer\n",
      "  Found existing installation: steering-optimizer 0.0.1\n",
      "    Uninstalling steering-optimizer-0.0.1:\n",
      "      Successfully uninstalled steering-optimizer-0.0.1\n",
      "  Running setup.py develop for steering-optimizer\n",
      "Successfully installed steering-optimizer\n"
     ]
    }
   ],
   "source": [
    "!pip install -e C:\\Users\\asus_strix_scar\\Anaconda3\\Lib\\site-packages\\gym\\envs\\steering-optimizer\\steering_optimizer\\envs\\github\\steering-optimizer\\"
   ]
  },
  {
   "cell_type": "code",
   "execution_count": 2,
   "metadata": {},
   "outputs": [],
   "source": [
    "import numpy as np"
   ]
  },
  {
   "cell_type": "code",
   "execution_count": 3,
   "metadata": {},
   "outputs": [],
   "source": [
    "import gym"
   ]
  },
  {
   "cell_type": "code",
   "execution_count": 4,
   "metadata": {},
   "outputs": [],
   "source": [
    "for env in gym.envs.registry.env_specs.keys():\n",
    "     if 'steering_optimizer' in env:\n",
    "          print('Remove {} from registry\".format(env)')\n",
    "          del gym.envs.registry.env_specs[env]"
   ]
  },
  {
   "cell_type": "code",
   "execution_count": 5,
   "metadata": {},
   "outputs": [],
   "source": [
    "from gym.envs.registration import register\n",
    "\n",
    "register(\n",
    "    id='steering_optimizer-v0',\n",
    "    entry_point='steering_optimizer.envs:StrOptEnv',# kwargs={'WB': 1900, 'TW': 1200, 'KP': 150,'tr_min': 4000}\n",
    ")"
   ]
  },
  {
   "cell_type": "code",
   "execution_count": 6,
   "metadata": {},
   "outputs": [],
   "source": [
    "env = gym.make(\"steering_optimizer-v0\")"
   ]
  },
  {
   "cell_type": "code",
   "execution_count": 7,
   "metadata": {},
   "outputs": [],
   "source": [
    "#Fixed parameters\n",
    "\n",
    "#Wheelbase, track width and kingpin distance\n",
    "\n",
    "WB = 1900\n",
    "TW = 1200\n",
    "KP = 150"
   ]
  },
  {
   "cell_type": "code",
   "execution_count": 8,
   "metadata": {},
   "outputs": [],
   "source": [
    "batch_size = 70\n",
    "session_size = 100\n",
    "t_max = 200\n",
    "percentile = 80\n",
    "hidden_size = 30\n",
    "learning_rate = 0.01\n",
    "completion_score = 200"
   ]
  },
  {
   "cell_type": "code",
   "execution_count": 9,
   "metadata": {},
   "outputs": [],
   "source": [
    "import gym\n",
    "import numpy as np\n",
    "import torch\n",
    "import torch.nn as nn\n",
    "import torch.optim as optim\n",
    "import torch.nn.functional as F\n",
    "\n",
    "class Net(nn.Module):\n",
    "    def __init__(self, obs_size, hidden_size, n_actions):\n",
    "        super(Net, self).__init__()\n",
    "        self.fc1 = nn.Linear(obs_size, hidden_size)\n",
    "        self.fc2 = nn.Linear(hidden_size, n_actions)\n",
    "        \n",
    "    def forward(self, x):\n",
    "        x = F.relu(self.fc1(x))\n",
    "        return self.fc2(x)\n",
    "\n",
    "    def generate_batch(self, env, batch_size, t_max):\n",
    "        \n",
    "        activation_1 = nn.Softmax(dim=1)\n",
    "        batch_actions, batch_states, batch_rewards = [],[],[]\n",
    "        \n",
    "        for b in range(batch_size):\n",
    "            states,actions = [],[]\n",
    "            total_reward = 0\n",
    "            s = env.reset()\n",
    "            #print('state shape after reset:', s.shape)\n",
    "            s = s.reshape((1,4))\n",
    "            \n",
    " # Scaling the state width TW\n",
    "            s = s/TW*2\n",
    "            #print('state shape after reshape:', s.shape)\n",
    "            \n",
    "            count = 0\n",
    "            #print('batch:',b)\n",
    "            \n",
    "            for t in range(t_max):\n",
    "                count +=1\n",
    "                \n",
    "                s_v = torch.FloatTensor([s]).reshape(((1,4)))\n",
    "                #print('state_shape',s_v.shape)\n",
    "                #s_v = torch.FloatTensor([s])\n",
    "                \n",
    "                #print('state: x',s_v)\n",
    "                \n",
    "                act_probs_v = activation_1(self.forward(s_v))\n",
    "                act_probs = act_probs_v.data.numpy()[0]\n",
    "                choice_num = len(act_probs)\n",
    "                #print('num:',choice_num)\n",
    "                a = np.random.choice(choice_num, p=act_probs)\n",
    "                #print('action:',a)\n",
    "\n",
    "                new_s, r, done, info = env.step(a)\n",
    "                #new_s, r, done, info = env.step(8)\n",
    "\n",
    "                states.append(s)\n",
    "                actions.append(a)\n",
    "                \n",
    "                #print('new state',new_s)\n",
    "                \n",
    "                total_reward += r\n",
    "                \n",
    "                #print('reward:', total_reward)\n",
    " # Scaling the state width TW               \n",
    "                s = new_s/TW*2\n",
    "            \n",
    "                \n",
    "            #print('Batch member done')\n",
    "            batch_actions.append(actions)\n",
    "            batch_states.append(states)\n",
    "            batch_rewards.append(total_reward)\n",
    "        \n",
    "        #print('Batch generated')\n",
    "        #print('States:', batch_states)\n",
    "        #print('Actions:', batch_actions)\n",
    "        #print('Rewards:', batch_rewards)\n",
    "        \n",
    "        return batch_states, batch_actions, batch_rewards\n",
    "\n",
    "    def filter_batch(self,states_batch,actions_batch,rewards_batch,percentile):\n",
    "        \n",
    "        reward_threshold = np.percentile(rewards_batch, percentile)\n",
    "        \n",
    "        #print('reward threshold:', reward_threshold)\n",
    "        \n",
    "        threshold_cnt = 0\n",
    "        for i in range(len(rewards_batch)):\n",
    "            if rewards_batch[i] > reward_threshold:\n",
    "                threshold_cnt += 1\n",
    "                \n",
    "        elite_states = np.array([], dtype=float)\n",
    "        elite_actions = np.array([], dtype=int)\n",
    "        \n",
    "        elite_indices = []\n",
    "        \n",
    "        for i in range(len(rewards_batch)):\n",
    "            if rewards_batch[i] > reward_threshold:\n",
    "                elite_indices.append(i)\n",
    "        \n",
    "        elite_indices = np.asarray(elite_indices)\n",
    "        #print('indices', elite_indices)\n",
    "        \n",
    "        obs_num = np.shape(env.observation_space)[0]\n",
    "        #print('obs num:', obs_num)\n",
    "        \n",
    "        for i in range(batch_size):\n",
    "            for j in range(len(states_batch[i])):\n",
    "                    \n",
    "                if j == 0:\n",
    "                    #print('%d batch, %d count:' % (i,j) , states_batch[i][j][0])\n",
    "                    #print('%d batch, %d count:' % (i,j) , actions_batch[i][j])\n",
    "                    \n",
    "                   # for k in range(obs_num):\n",
    "                    #    elite_states = np.append(elite_states, states_batch[0][0][0][k])\n",
    "                        #print('elite states_iteration', elite_states)\n",
    "                        #print('%d batch, %d count:' % (i,j) , states_batch[i][j][0][k])\n",
    "                        \n",
    "                    elite_states = np.append(elite_states, states_batch[i][0][0]) \n",
    "                    elite_actions = np.append(elite_actions, actions_batch[0][0])\n",
    "                    #print('el_ac-> j:', elite_actions)\n",
    "                else:\n",
    "                    #print('%d batch, %d count:' % (i,j) , states_batch[i][j])\n",
    "                    #print('%d batch, %d count:' % (i,j) , actions_batch[i][j])\n",
    "                    #for k in range(obs_num):\n",
    "                        #elite_states = np.append(elite_states, states_batch[i][j][k])\n",
    "                        #print('%d batch, %d count:' % (i,j) , states_batch[i][j][k])\n",
    "                    elite_states = np.append(elite_states, states_batch[i][j])\n",
    "                    elite_actions = np.append(elite_actions, actions_batch[i][j])\n",
    "                    #elite_states.append(states_batch[i][j])\n",
    "                    #elite_actions.append(actions_batch[i][j])\n",
    "                \n",
    "        #print('elite_actions shape:',elite_actions.shape)\n",
    "        #print('elite_actions:',elite_actions)\n",
    "        return elite_states, elite_actions"
   ]
  },
  {
   "cell_type": "code",
   "execution_count": 10,
   "metadata": {},
   "outputs": [],
   "source": [
    "n_states = np.shape(env.observation_space)[0]\n",
    "n_actions = env.action_space.n\n",
    "\n",
    "#print(n_states, n_actions)\n",
    "\n",
    "#neural network\n",
    "net = Net(n_states, hidden_size, n_actions)"
   ]
  },
  {
   "cell_type": "code",
   "execution_count": 11,
   "metadata": {},
   "outputs": [
    {
     "name": "stdout",
     "output_type": "stream",
     "text": [
      "0: loss=2.17856, reward_mean=-0.00743, reward_threshold=0.03000\n",
      "1: loss=2.18961, reward_mean=-0.00371, reward_threshold=0.03000\n",
      "2: loss=2.18713, reward_mean=-0.00743, reward_threshold=0.03000\n",
      "3: loss=2.16166, reward_mean=-0.00971, reward_threshold=0.01000\n",
      "4: loss=2.12252, reward_mean=-0.00171, reward_threshold=0.01000\n",
      "5: loss=2.13332, reward_mean=-0.00029, reward_threshold=0.03000\n",
      "6: loss=2.16353, reward_mean=0.00000, reward_threshold=0.03000\n",
      "7: loss=2.08996, reward_mean=-0.00657, reward_threshold=0.01000\n",
      "8: loss=2.16259, reward_mean=-0.00114, reward_threshold=0.01400\n",
      "9: loss=2.03753, reward_mean=0.00029, reward_threshold=0.03000\n",
      "10: loss=2.08729, reward_mean=-0.00200, reward_threshold=0.03000\n",
      "11: loss=2.10488, reward_mean=0.00457, reward_threshold=0.03000\n",
      "12: loss=1.98959, reward_mean=0.00457, reward_threshold=0.03000\n",
      "13: loss=1.97087, reward_mean=0.00629, reward_threshold=0.03000\n",
      "14: loss=1.98431, reward_mean=0.00400, reward_threshold=0.03000\n",
      "15: loss=2.02740, reward_mean=-0.00229, reward_threshold=0.03000\n",
      "16: loss=1.91979, reward_mean=0.00543, reward_threshold=0.03000\n",
      "17: loss=1.95289, reward_mean=0.00143, reward_threshold=0.03000\n",
      "18: loss=1.86349, reward_mean=0.00371, reward_threshold=0.03000\n",
      "19: loss=2.05547, reward_mean=-0.00457, reward_threshold=0.01000\n",
      "20: loss=1.79462, reward_mean=-0.00400, reward_threshold=0.03000\n",
      "21: loss=2.02055, reward_mean=0.00371, reward_threshold=0.03000\n",
      "22: loss=1.84538, reward_mean=-0.00600, reward_threshold=0.01000\n",
      "23: loss=1.77009, reward_mean=-0.00657, reward_threshold=0.03000\n",
      "24: loss=1.76375, reward_mean=-0.00657, reward_threshold=0.01400\n",
      "25: loss=1.68759, reward_mean=-0.00743, reward_threshold=0.01400\n",
      "26: loss=1.72513, reward_mean=-0.01343, reward_threshold=0.01000\n",
      "27: loss=1.81077, reward_mean=-0.01086, reward_threshold=0.01000\n",
      "28: loss=1.80219, reward_mean=-0.01229, reward_threshold=0.01000\n",
      "29: loss=1.66332, reward_mean=-0.02143, reward_threshold=-0.00600\n",
      "30: loss=1.57721, reward_mean=-0.02000, reward_threshold=0.01000\n",
      "31: loss=1.58106, reward_mean=-0.02800, reward_threshold=-0.01000\n",
      "32: loss=1.68692, reward_mean=-0.02571, reward_threshold=-0.01000\n",
      "33: loss=1.57310, reward_mean=-0.02800, reward_threshold=-0.01000\n",
      "34: loss=1.57251, reward_mean=-0.02714, reward_threshold=-0.01000\n",
      "35: loss=1.58920, reward_mean=-0.03486, reward_threshold=-0.01000\n",
      "36: loss=1.64697, reward_mean=-0.03771, reward_threshold=-0.01000\n",
      "37: loss=1.44840, reward_mean=-0.03914, reward_threshold=-0.03000\n",
      "38: loss=1.37726, reward_mean=-0.04057, reward_threshold=-0.02600\n",
      "39: loss=1.52202, reward_mean=-0.03171, reward_threshold=-0.01000\n",
      "40: loss=1.39307, reward_mean=-0.03886, reward_threshold=-0.01000\n",
      "41: loss=1.41612, reward_mean=-0.03857, reward_threshold=-0.01000\n",
      "42: loss=1.45523, reward_mean=-0.03800, reward_threshold=-0.02600\n",
      "43: loss=1.24047, reward_mean=-0.04686, reward_threshold=-0.03000\n",
      "44: loss=1.65921, reward_mean=-0.04371, reward_threshold=-0.01000\n",
      "45: loss=1.18762, reward_mean=-0.04714, reward_threshold=-0.03000\n",
      "46: loss=1.35338, reward_mean=-0.04800, reward_threshold=-0.03000\n",
      "47: loss=1.35645, reward_mean=-0.05086, reward_threshold=-0.03000\n",
      "48: loss=1.34144, reward_mean=-0.05257, reward_threshold=-0.03000\n",
      "49: loss=1.35998, reward_mean=-0.04829, reward_threshold=-0.03000\n",
      "50: loss=1.35006, reward_mean=-0.04771, reward_threshold=-0.03000\n",
      "51: loss=1.23687, reward_mean=-0.05057, reward_threshold=-0.03000\n",
      "52: loss=1.29685, reward_mean=-0.04514, reward_threshold=-0.03000\n",
      "53: loss=1.35736, reward_mean=-0.04514, reward_threshold=-0.03000\n",
      "54: loss=1.36453, reward_mean=-0.05400, reward_threshold=-0.03000\n",
      "55: loss=1.25640, reward_mean=-0.04886, reward_threshold=-0.03000\n",
      "56: loss=1.60953, reward_mean=-0.05029, reward_threshold=-0.03000\n",
      "57: loss=1.38654, reward_mean=-0.04886, reward_threshold=-0.03000\n",
      "58: loss=1.29028, reward_mean=-0.04743, reward_threshold=-0.03000\n",
      "59: loss=1.42253, reward_mean=-0.04514, reward_threshold=-0.03000\n",
      "60: loss=1.35118, reward_mean=-0.03971, reward_threshold=-0.01000\n",
      "61: loss=1.35121, reward_mean=-0.04371, reward_threshold=-0.02600\n",
      "62: loss=1.35867, reward_mean=-0.04029, reward_threshold=-0.02600\n",
      "63: loss=1.30966, reward_mean=-0.04286, reward_threshold=-0.03000\n",
      "64: loss=1.42134, reward_mean=-0.04171, reward_threshold=-0.02600\n",
      "65: loss=1.62829, reward_mean=-0.03600, reward_threshold=-0.01000\n",
      "66: loss=1.37909, reward_mean=-0.03686, reward_threshold=-0.01000\n",
      "67: loss=1.58707, reward_mean=-0.03914, reward_threshold=-0.03000\n",
      "68: loss=1.38309, reward_mean=-0.03971, reward_threshold=-0.01000\n",
      "69: loss=1.42431, reward_mean=-0.03400, reward_threshold=-0.01000\n",
      "70: loss=1.36802, reward_mean=-0.03771, reward_threshold=-0.01000\n",
      "71: loss=1.38675, reward_mean=-0.02429, reward_threshold=-0.01000\n",
      "72: loss=1.35957, reward_mean=-0.03257, reward_threshold=-0.01000\n",
      "73: loss=1.54624, reward_mean=-0.03314, reward_threshold=-0.01000\n",
      "74: loss=1.30850, reward_mean=-0.03057, reward_threshold=-0.01000\n",
      "75: loss=1.32805, reward_mean=-0.03314, reward_threshold=-0.01000\n",
      "76: loss=1.44754, reward_mean=-0.03457, reward_threshold=-0.01000\n",
      "77: loss=1.30626, reward_mean=-0.03371, reward_threshold=-0.01000\n",
      "78: loss=1.25531, reward_mean=-0.04143, reward_threshold=-0.03000\n",
      "79: loss=1.35009, reward_mean=-0.03486, reward_threshold=-0.01000\n",
      "80: loss=1.75838, reward_mean=-0.03571, reward_threshold=-0.01000\n",
      "81: loss=1.20580, reward_mean=-0.03829, reward_threshold=-0.01000\n",
      "82: loss=1.23398, reward_mean=-0.04714, reward_threshold=-0.03000\n",
      "83: loss=1.18009, reward_mean=-0.04229, reward_threshold=-0.01000\n",
      "84: loss=1.30822, reward_mean=-0.04371, reward_threshold=-0.02600\n",
      "85: loss=1.29044, reward_mean=-0.04000, reward_threshold=-0.01000\n",
      "86: loss=1.14738, reward_mean=-0.04514, reward_threshold=-0.03000\n",
      "87: loss=1.34746, reward_mean=-0.04543, reward_threshold=-0.03000\n",
      "88: loss=1.32660, reward_mean=-0.04229, reward_threshold=-0.03000\n",
      "89: loss=1.12481, reward_mean=-0.03714, reward_threshold=-0.01000\n",
      "90: loss=1.13972, reward_mean=-0.03600, reward_threshold=-0.01000\n",
      "91: loss=1.44129, reward_mean=-0.03514, reward_threshold=-0.01000\n",
      "92: loss=1.32174, reward_mean=-0.03800, reward_threshold=-0.01000\n",
      "93: loss=1.18696, reward_mean=-0.02886, reward_threshold=-0.00600\n",
      "94: loss=1.44137, reward_mean=-0.03743, reward_threshold=-0.01000\n",
      "95: loss=1.20987, reward_mean=-0.03171, reward_threshold=-0.01000\n",
      "96: loss=1.19922, reward_mean=-0.03486, reward_threshold=-0.01000\n",
      "97: loss=1.19100, reward_mean=-0.03400, reward_threshold=-0.01000\n",
      "98: loss=1.28912, reward_mean=-0.03400, reward_threshold=-0.01000\n",
      "99: loss=1.27151, reward_mean=-0.03629, reward_threshold=-0.01000\n"
     ]
    }
   ],
   "source": [
    "#loss function\n",
    "objective = nn.CrossEntropyLoss()\n",
    "\n",
    "#optimisation function\n",
    "optimizer = optim.Adam(params=net.parameters(), lr=learning_rate)\n",
    "\n",
    "stats1 = np.array([])\n",
    "stats2 = np.array([])\n",
    "stats3 = np.array([])\n",
    "\n",
    "for i in range(session_size):\n",
    "    #generate new sessions\n",
    "    batch_states,batch_actions,batch_rewards = net.generate_batch(env, batch_size, 10)\n",
    "    \n",
    "    #print('batch_states', np.asarray(batch_states).reshape(-1,4))\n",
    "\n",
    "    elite_states, elite_actions = net.filter_batch(batch_states,batch_actions,batch_rewards,percentile)\n",
    "    \n",
    "    #print('el_states', elite_states)\n",
    "    elite_states = elite_states.reshape(-1,4)\n",
    "    \n",
    "    #print('el_states: reshaped', elite_states)\n",
    "    #print('el_actions', elite_actions)\n",
    "    \n",
    "    optimizer.zero_grad()\n",
    "\n",
    "    tensor_states = torch.FloatTensor(elite_states)\n",
    "    tensor_actions = torch.LongTensor(elite_actions)\n",
    "\n",
    "    action_scores_v = net(tensor_states)\n",
    "    \n",
    "    #print(action_scores_v)\n",
    "    \n",
    "    loss_v = objective(action_scores_v, tensor_actions)\n",
    "    loss_v.backward()\n",
    "    optimizer.step()\n",
    "\n",
    "    #show results\n",
    "    mean_reward, threshold = np.mean(batch_rewards), np.percentile(batch_rewards, percentile)\n",
    "    print(\"%d: loss=%.5f, reward_mean=%.5f, reward_threshold=%.5f\"% (i, loss_v.item(), mean_reward, threshold))\n",
    "    \n",
    "    stats1 = np.append(stats1, loss_v.item())\n",
    "    stats2 = np.append(stats2, mean_reward)\n",
    "    stats3 = np.append(stats3, threshold)\n",
    "    \n",
    "    #check if \n",
    "    if np.mean(batch_rewards)> completion_score:\n",
    "        print(\"Environment has been successfullly completed!\")"
   ]
  },
  {
   "cell_type": "code",
   "execution_count": 12,
   "metadata": {},
   "outputs": [
    {
     "data": {
      "text/plain": [
       "[<matplotlib.lines.Line2D at 0x1fa8cdceb48>]"
      ]
     },
     "execution_count": 12,
     "metadata": {},
     "output_type": "execute_result"
    },
    {
     "data": {
      "image/png": "[encoded data removed]",
      "text/plain": [
       "<Figure size 432x288 with 1 Axes>"
      ]
     },
     "metadata": {
      "needs_background": "light"
     },
     "output_type": "display_data"
    },
    {
     "data": {
      "image/png": "[encoded data removed]",
      "text/plain": [
       "<Figure size 432x288 with 1 Axes>"
      ]
     },
     "metadata": {
      "needs_background": "light"
     },
     "output_type": "display_data"
    },
    {
     "data": {
      "image/png": "[encoded data removed]",
      "text/plain": [
       "<Figure size 432x288 with 1 Axes>"
      ]
     },
     "metadata": {
      "needs_background": "light"
     },
     "output_type": "display_data"
    }
   ],
   "source": [
    "import matplotlib\n",
    "import matplotlib.pyplot as plt\n",
    "%matplotlib inline  \n",
    "\n",
    "plt.figure()\n",
    "plt.plot(stats1)\n",
    "plt.figure()\n",
    "plt.plot(stats2)\n",
    "plt.figure()\n",
    "plt.plot(stats3)"
   ]
  },
  {
   "cell_type": "code",
   "execution_count": null,
   "metadata": {},
   "outputs": [],
   "source": []
  }
 ],
 "metadata": {
  "kernelspec": {
   "display_name": "Python 3",
   "language": "python",
   "name": "python3"
  },
  "language_info": {
   "codemirror_mode": {
    "name": "ipython",
    "version": 3
   },
   "file_extension": ".py",
   "mimetype": "text/x-python",
   "name": "python",
   "nbconvert_exporter": "python",
   "pygments_lexer": "ipython3",
   "version": "3.7.4"
  }
 },
 "nbformat": 4,
 "nbformat_minor": 2
}
