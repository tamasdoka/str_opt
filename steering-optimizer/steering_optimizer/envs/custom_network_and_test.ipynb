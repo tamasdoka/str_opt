{
 "cells": [
  {
   "cell_type": "code",
   "execution_count": 3,
   "metadata": {},
   "outputs": [
    {
     "name": "stdout",
     "output_type": "stream",
     "text": [
      "Obtaining file:///C:/Users/asus_strix_scar/Anaconda3/Lib/site-packages/gym/envs/steering-optimizer/steering_optimizer/envs/github/steering-optimizer\n",
      "Requirement already satisfied: gym in c:\\users\\asus_strix_scar\\anaconda3\\lib\\site-packages (from steering-optimizer==0.0.1) (0.15.4)\n",
      "Requirement already satisfied: opencv-python in c:\\users\\asus_strix_scar\\anaconda3\\lib\\site-packages (from gym->steering-optimizer==0.0.1) (4.1.2.30)\n",
      "Requirement already satisfied: scipy in c:\\users\\asus_strix_scar\\anaconda3\\lib\\site-packages (from gym->steering-optimizer==0.0.1) (1.3.1)\n",
      "Requirement already satisfied: cloudpickle~=1.2.0 in c:\\users\\asus_strix_scar\\anaconda3\\lib\\site-packages (from gym->steering-optimizer==0.0.1) (1.2.2)\n",
      "Requirement already satisfied: pyglet<=1.3.2,>=1.2.0 in c:\\users\\asus_strix_scar\\anaconda3\\lib\\site-packages (from gym->steering-optimizer==0.0.1) (1.3.2)\n",
      "Requirement already satisfied: numpy>=1.10.4 in c:\\users\\asus_strix_scar\\anaconda3\\lib\\site-packages (from gym->steering-optimizer==0.0.1) (1.16.5)\n",
      "Requirement already satisfied: six in c:\\users\\asus_strix_scar\\anaconda3\\lib\\site-packages (from gym->steering-optimizer==0.0.1) (1.12.0)\n",
      "Requirement already satisfied: future in c:\\users\\asus_strix_scar\\anaconda3\\lib\\site-packages (from pyglet<=1.3.2,>=1.2.0->gym->steering-optimizer==0.0.1) (0.17.1)\n",
      "Installing collected packages: steering-optimizer\n",
      "  Found existing installation: steering-optimizer 0.0.1\n",
      "    Uninstalling steering-optimizer-0.0.1:\n",
      "      Successfully uninstalled steering-optimizer-0.0.1\n",
      "  Running setup.py develop for steering-optimizer\n",
      "Successfully installed steering-optimizer\n"
     ]
    }
   ],
   "source": [
    "!pip install -e C:\\Users\\asus_strix_scar\\Anaconda3\\Lib\\site-packages\\gym\\envs\\steering-optimizer\\steering_optimizer\\envs\\github\\steering-optimizer\\"
   ]
  },
  {
   "cell_type": "code",
   "execution_count": 4,
   "metadata": {},
   "outputs": [],
   "source": [
    "import numpy as np"
   ]
  },
  {
   "cell_type": "code",
   "execution_count": 5,
   "metadata": {},
   "outputs": [],
   "source": [
    "import gym"
   ]
  },
  {
   "cell_type": "code",
   "execution_count": 6,
   "metadata": {},
   "outputs": [],
   "source": [
    "for env in gym.envs.registry.env_specs.keys():\n",
    "     if 'steering_optimizer' in env:\n",
    "          print('Remove {} from registry\".format(env)')\n",
    "          del gym.envs.registry.env_specs[env]"
   ]
  },
  {
   "cell_type": "code",
   "execution_count": 7,
   "metadata": {},
   "outputs": [],
   "source": [
    "from gym.envs.registration import register\n",
    "\n",
    "register(\n",
    "    id='steering_optimizer-v0',\n",
    "    entry_point='steering_optimizer.envs:StrOptEnv',# kwargs={'WB': 1900, 'TW': 1200, 'KP': 150,'tr_min': 4000}\n",
    ")"
   ]
  },
  {
   "cell_type": "code",
   "execution_count": 8,
   "metadata": {},
   "outputs": [],
   "source": [
    "env = gym.make(\"steering_optimizer-v0\")"
   ]
  },
  {
   "cell_type": "code",
   "execution_count": 9,
   "metadata": {},
   "outputs": [],
   "source": [
    "#Fixed parameters\n",
    "\n",
    "#Wheelbase, track width and kingpin distance\n",
    "\n",
    "WB = 1900\n",
    "TW = 1200\n",
    "KP = 150"
   ]
  },
  {
   "cell_type": "code",
   "execution_count": 10,
   "metadata": {},
   "outputs": [],
   "source": [
    "batch_size = 100\n",
    "session_size = 150\n",
    "t_max = 200\n",
    "percentile = 80\n",
    "hidden_size = 20\n",
    "learning_rate = 0.02\n",
    "completion_score = 10"
   ]
  },
  {
   "cell_type": "code",
   "execution_count": 11,
   "metadata": {},
   "outputs": [],
   "source": [
    "import gym\n",
    "import numpy as np\n",
    "import torch\n",
    "import torch.nn as nn\n",
    "import torch.optim as optim\n",
    "import torch.nn.functional as F\n",
    "\n",
    "class Net(nn.Module):\n",
    "    def __init__(self, obs_size, hidden_size, n_actions):\n",
    "        super(Net, self).__init__()\n",
    "        self.fc1 = nn.Linear(obs_size, hidden_size)\n",
    "        self.fc2 = nn.Linear(hidden_size, n_actions)\n",
    "        \n",
    "    def forward(self, x):\n",
    "        x = F.relu(self.fc1(x))\n",
    "        return self.fc2(x)\n",
    "\n",
    "    def generate_batch(self, env, batch_size, t_max):\n",
    "        \n",
    "        activation_1 = nn.Softmax(dim=1)\n",
    "        batch_actions, batch_states, batch_rewards = [],[],[]\n",
    "        \n",
    "        for b in range(batch_size):\n",
    "            states,actions = [],[]\n",
    "            total_reward = 0\n",
    "            s = env.reset()\n",
    "            #print('state shape after reset:', s.shape)\n",
    "            s = s.reshape((1,4))\n",
    "            \n",
    " # Scaling the state width TW\n",
    "            s = s/TW*2\n",
    "            #print('state shape after reshape:', s.shape)\n",
    "            \n",
    "            count = 0\n",
    "            #print('batch:',b)\n",
    "            \n",
    "            for t in range(t_max):\n",
    "                count +=1\n",
    "                \n",
    "                s_v = torch.FloatTensor([s]).reshape(((1,4)))\n",
    "                #print('state_shape',s_v.shape)\n",
    "                #s_v = torch.FloatTensor([s])\n",
    "                \n",
    "                #print('state: x',s_v)\n",
    "                \n",
    "                act_probs_v = activation_1(self.forward(s_v))\n",
    "                act_probs = act_probs_v.data.numpy()[0]\n",
    "                choice_num = len(act_probs)\n",
    "                #print('num:',choice_num)\n",
    "                a = np.random.choice(choice_num, p=act_probs)\n",
    "                #print('action:',a)\n",
    "\n",
    "                new_s, r, done, info = env.step(a)\n",
    "                #new_s, r, done, info = env.step(8)\n",
    "\n",
    "                states.append(s)\n",
    "                actions.append(a)\n",
    "                \n",
    "                #print('new state',new_s)\n",
    "                \n",
    "                total_reward += r\n",
    "                \n",
    "                #print('reward:', total_reward)\n",
    " # Scaling the state width TW               \n",
    "                s = new_s/TW*2\n",
    "            \n",
    "                \n",
    "            #print('Batch member done')\n",
    "            batch_actions.append(actions)\n",
    "            batch_states.append(states)\n",
    "            batch_rewards.append(total_reward)\n",
    "        \n",
    "        #print('Batch generated')\n",
    "        #print('States:', batch_states)\n",
    "        #print('Actions:', batch_actions)\n",
    "        #print('Rewards:', batch_rewards)\n",
    "        \n",
    "        return batch_states, batch_actions, batch_rewards\n",
    "\n",
    "    def filter_batch(self,states_batch,actions_batch,rewards_batch,percentile):\n",
    "        \n",
    "        reward_threshold = np.percentile(rewards_batch, percentile)\n",
    "        \n",
    "        #print('reward threshold:', reward_threshold)\n",
    "        \n",
    "        threshold_cnt = 0\n",
    "        for i in range(len(rewards_batch)):\n",
    "            if rewards_batch[i] > reward_threshold:\n",
    "                threshold_cnt += 1\n",
    "                \n",
    "        elite_states = np.array([], dtype=float)\n",
    "        elite_actions = np.array([], dtype=int)\n",
    "        \n",
    "        elite_indices = []\n",
    "        \n",
    "        for i in range(len(rewards_batch)):\n",
    "            if rewards_batch[i] > reward_threshold:\n",
    "                elite_indices.append(i)\n",
    "        \n",
    "        elite_indices = np.asarray(elite_indices)\n",
    "        #print('indices', elite_indices)\n",
    "        \n",
    "        obs_num = np.shape(env.observation_space)[0]\n",
    "        #print('obs num:', obs_num)\n",
    "        \n",
    "        for i in range(batch_size):\n",
    "            for j in range(len(states_batch[i])):\n",
    "                    \n",
    "                if j == 0:\n",
    "                    #print('%d batch, %d count:' % (i,j) , states_batch[i][j][0])\n",
    "                    #print('%d batch, %d count:' % (i,j) , actions_batch[i][j])\n",
    "                    \n",
    "                   # for k in range(obs_num):\n",
    "                    #    elite_states = np.append(elite_states, states_batch[0][0][0][k])\n",
    "                        #print('elite states_iteration', elite_states)\n",
    "                        #print('%d batch, %d count:' % (i,j) , states_batch[i][j][0][k])\n",
    "                        \n",
    "                    elite_states = np.append(elite_states, states_batch[i][0][0]) \n",
    "                    elite_actions = np.append(elite_actions, actions_batch[0][0])\n",
    "                    #print('el_ac-> j:', elite_actions)\n",
    "                else:\n",
    "                    #print('%d batch, %d count:' % (i,j) , states_batch[i][j])\n",
    "                    #print('%d batch, %d count:' % (i,j) , actions_batch[i][j])\n",
    "                    #for k in range(obs_num):\n",
    "                        #elite_states = np.append(elite_states, states_batch[i][j][k])\n",
    "                        #print('%d batch, %d count:' % (i,j) , states_batch[i][j][k])\n",
    "                    elite_states = np.append(elite_states, states_batch[i][j])\n",
    "                    elite_actions = np.append(elite_actions, actions_batch[i][j])\n",
    "                    #elite_states.append(states_batch[i][j])\n",
    "                    #elite_actions.append(actions_batch[i][j])\n",
    "                \n",
    "        #print('elite_actions shape:',elite_actions.shape)\n",
    "        #print('elite_actions:',elite_actions)\n",
    "        return elite_states, elite_actions"
   ]
  },
  {
   "cell_type": "code",
   "execution_count": 12,
   "metadata": {},
   "outputs": [],
   "source": [
    "n_states = np.shape(env.observation_space)[0]\n",
    "n_actions = env.action_space.n\n",
    "\n",
    "#print(n_states, n_actions)\n",
    "\n",
    "#neural network\n",
    "net = Net(n_states, hidden_size, n_actions)"
   ]
  },
  {
   "cell_type": "code",
   "execution_count": null,
   "metadata": {},
   "outputs": [
    {
     "name": "stdout",
     "output_type": "stream",
     "text": [
      "0: loss=2.20746, reward_mean=0.20022, reward_threshold=0.23482\n",
      "1: loss=2.16391, reward_mean=0.19019, reward_threshold=0.22222\n",
      "2: loss=2.20932, reward_mean=0.20875, reward_threshold=0.24384\n",
      "3: loss=2.15529, reward_mean=0.18758, reward_threshold=0.21539\n",
      "4: loss=2.17717, reward_mean=0.19698, reward_threshold=0.22792\n",
      "5: loss=2.16854, reward_mean=0.20833, reward_threshold=0.25780\n",
      "6: loss=2.10062, reward_mean=0.19543, reward_threshold=0.21849\n",
      "7: loss=2.18168, reward_mean=0.19358, reward_threshold=0.22414\n",
      "8: loss=2.09866, reward_mean=0.20302, reward_threshold=0.23709\n",
      "9: loss=2.09770, reward_mean=0.20202, reward_threshold=0.23250\n",
      "10: loss=2.05731, reward_mean=0.19727, reward_threshold=0.22244\n",
      "11: loss=2.06433, reward_mean=0.19544, reward_threshold=0.22563\n",
      "12: loss=2.06642, reward_mean=0.19830, reward_threshold=0.22642\n",
      "13: loss=2.02337, reward_mean=0.20712, reward_threshold=0.24371\n",
      "14: loss=1.98759, reward_mean=0.19540, reward_threshold=0.22220\n",
      "15: loss=2.14189, reward_mean=0.19541, reward_threshold=0.22525\n",
      "16: loss=2.02043, reward_mean=0.19832, reward_threshold=0.22311\n",
      "17: loss=1.96764, reward_mean=0.20135, reward_threshold=0.22234\n",
      "18: loss=1.94604, reward_mean=0.19165, reward_threshold=0.22204\n",
      "19: loss=1.94358, reward_mean=0.18835, reward_threshold=0.21183\n",
      "20: loss=1.92155, reward_mean=0.19270, reward_threshold=0.21724\n",
      "21: loss=1.91435, reward_mean=0.20031, reward_threshold=0.22890\n",
      "22: loss=1.91730, reward_mean=0.19172, reward_threshold=0.21511\n",
      "23: loss=1.95143, reward_mean=0.20347, reward_threshold=0.23594\n",
      "24: loss=1.90199, reward_mean=0.19535, reward_threshold=0.23176\n",
      "25: loss=1.81014, reward_mean=0.19538, reward_threshold=0.23192\n",
      "26: loss=1.88979, reward_mean=0.18943, reward_threshold=0.21515\n",
      "27: loss=1.84648, reward_mean=0.19943, reward_threshold=0.22567\n",
      "28: loss=1.80876, reward_mean=0.19950, reward_threshold=0.22820\n",
      "29: loss=1.77293, reward_mean=0.20015, reward_threshold=0.22957\n",
      "30: loss=1.73787, reward_mean=0.19825, reward_threshold=0.22990\n",
      "31: loss=1.75370, reward_mean=0.19632, reward_threshold=0.21546\n",
      "32: loss=1.69390, reward_mean=0.18950, reward_threshold=0.20993\n",
      "33: loss=1.69216, reward_mean=0.19861, reward_threshold=0.24081\n",
      "34: loss=1.62538, reward_mean=0.18418, reward_threshold=0.20003\n",
      "35: loss=1.58839, reward_mean=0.19751, reward_threshold=0.22683\n",
      "36: loss=1.65248, reward_mean=0.18901, reward_threshold=0.21805\n",
      "37: loss=1.93631, reward_mean=0.19056, reward_threshold=0.21153\n",
      "38: loss=1.53922, reward_mean=0.19150, reward_threshold=0.21500\n",
      "39: loss=1.52574, reward_mean=0.19303, reward_threshold=0.22474\n",
      "40: loss=1.52605, reward_mean=0.19546, reward_threshold=0.22804\n",
      "41: loss=1.71835, reward_mean=0.19028, reward_threshold=0.21814\n",
      "42: loss=1.48450, reward_mean=0.19099, reward_threshold=0.21454\n",
      "43: loss=1.50408, reward_mean=0.19195, reward_threshold=0.23006\n",
      "44: loss=1.45586, reward_mean=0.18818, reward_threshold=0.22225\n"
     ]
    }
   ],
   "source": [
    "#loss function\n",
    "objective = nn.CrossEntropyLoss()\n",
    "\n",
    "#optimisation function\n",
    "optimizer = optim.Adam(params=net.parameters(), lr=learning_rate)\n",
    "\n",
    "stats1 = np.array([])\n",
    "stats2 = np.array([])\n",
    "stats3 = np.array([])\n",
    "\n",
    "for i in range(session_size):\n",
    "    #generate new sessions\n",
    "    batch_states,batch_actions,batch_rewards = net.generate_batch(env, batch_size, 10)\n",
    "    \n",
    "    #print('batch_states', np.asarray(batch_states).reshape(-1,4))\n",
    "\n",
    "    elite_states, elite_actions = net.filter_batch(batch_states,batch_actions,batch_rewards,percentile)\n",
    "    \n",
    "    #print('el_states', elite_states)\n",
    "    elite_states = elite_states.reshape(-1,4)\n",
    "    \n",
    "    #print('el_states: reshaped', elite_states)\n",
    "    #print('el_actions', elite_actions)\n",
    "    \n",
    "    optimizer.zero_grad()\n",
    "\n",
    "    tensor_states = torch.FloatTensor(elite_states)\n",
    "    tensor_actions = torch.LongTensor(elite_actions)\n",
    "\n",
    "    action_scores_v = net(tensor_states)\n",
    "    \n",
    "    #print(action_scores_v)\n",
    "    \n",
    "    loss_v = objective(action_scores_v, tensor_actions)\n",
    "    loss_v.backward()\n",
    "    optimizer.step()\n",
    "\n",
    "    #show results\n",
    "    mean_reward, threshold = np.mean(batch_rewards), np.percentile(batch_rewards, percentile)\n",
    "    print(\"%d: loss=%.5f, reward_mean=%.5f, reward_threshold=%.5f\"% (i, loss_v.item(), mean_reward, threshold))\n",
    "    \n",
    "    stats1 = np.append(stats1, loss_v.item())\n",
    "    stats2 = np.append(stats2, mean_reward)\n",
    "    stats3 = np.append(stats3, threshold)\n",
    "    \n",
    "    #check if \n",
    "    if np.mean(batch_rewards)> completion_score:\n",
    "        print(\"Environment has been successfullly completed!\")"
   ]
  },
  {
   "cell_type": "code",
   "execution_count": 16,
   "metadata": {},
   "outputs": [
    {
     "data": {
      "text/plain": [
       "[<matplotlib.lines.Line2D at 0x179c73f06c8>]"
      ]
     },
     "execution_count": 16,
     "metadata": {},
     "output_type": "execute_result"
    },
    {
     "data": {
      "image/png": "[encoded data removed]",
      "text/plain": [
       "<Figure size 432x288 with 1 Axes>"
      ]
     },
     "metadata": {
      "needs_background": "light"
     },
     "output_type": "display_data"
    },
    {
     "data": {
      "image/png": "[encoded data removed]",
      "text/plain": [
       "<Figure size 432x288 with 1 Axes>"
      ]
     },
     "metadata": {
      "needs_background": "light"
     },
     "output_type": "display_data"
    },
    {
     "data": {
      "image/png": "[encoded data removed]",
      "text/plain": [
       "<Figure size 432x288 with 1 Axes>"
      ]
     },
     "metadata": {
      "needs_background": "light"
     },
     "output_type": "display_data"
    }
   ],
   "source": [
    "import matplotlib\n",
    "import matplotlib.pyplot as plt\n",
    "%matplotlib inline  \n",
    "\n",
    "plt.figure()\n",
    "plt.plot(stats1)\n",
    "plt.figure()\n",
    "plt.plot(stats2)\n",
    "plt.figure()\n",
    "plt.plot(stats3)"
   ]
  },
  {
   "cell_type": "code",
   "execution_count": null,
   "metadata": {},
   "outputs": [],
   "source": []
  }
 ],
 "metadata": {
  "kernelspec": {
   "display_name": "Python 3",
   "language": "python",
   "name": "python3"
  },
  "language_info": {
   "codemirror_mode": {
    "name": "ipython",
    "version": 3
   },
   "file_extension": ".py",
   "mimetype": "text/x-python",
   "name": "python",
   "nbconvert_exporter": "python",
   "pygments_lexer": "ipython3",
   "version": "3.7.4"
  }
 },
 "nbformat": 4,
 "nbformat_minor": 2
}
