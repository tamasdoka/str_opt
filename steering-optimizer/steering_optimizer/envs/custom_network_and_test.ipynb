{
 "cells": [
  {
   "cell_type": "code",
   "execution_count": 1,
   "metadata": {},
   "outputs": [
    {
     "name": "stdout",
     "output_type": "stream",
     "text": [
      "Obtaining file:///C:/Users/asus_strix_scar/Anaconda3/Lib/site-packages/gym/envs/steering-optimizer/steering_optimizer/envs/github/steering-optimizer\n",
      "Requirement already satisfied: gym in c:\\users\\asus_strix_scar\\anaconda3\\lib\\site-packages (from steering-optimizer==0.0.1) (0.15.4)\n",
      "Requirement already satisfied: numpy>=1.10.4 in c:\\users\\asus_strix_scar\\anaconda3\\lib\\site-packages (from gym->steering-optimizer==0.0.1) (1.16.5)\n",
      "Requirement already satisfied: cloudpickle~=1.2.0 in c:\\users\\asus_strix_scar\\anaconda3\\lib\\site-packages (from gym->steering-optimizer==0.0.1) (1.2.2)\n",
      "Requirement already satisfied: pyglet<=1.3.2,>=1.2.0 in c:\\users\\asus_strix_scar\\anaconda3\\lib\\site-packages (from gym->steering-optimizer==0.0.1) (1.3.2)\n",
      "Requirement already satisfied: scipy in c:\\users\\asus_strix_scar\\anaconda3\\lib\\site-packages (from gym->steering-optimizer==0.0.1) (1.3.1)\n",
      "Requirement already satisfied: opencv-python in c:\\users\\asus_strix_scar\\anaconda3\\lib\\site-packages (from gym->steering-optimizer==0.0.1) (4.1.2.30)\n",
      "Requirement already satisfied: six in c:\\users\\asus_strix_scar\\anaconda3\\lib\\site-packages (from gym->steering-optimizer==0.0.1) (1.12.0)\n",
      "Requirement already satisfied: future in c:\\users\\asus_strix_scar\\anaconda3\\lib\\site-packages (from pyglet<=1.3.2,>=1.2.0->gym->steering-optimizer==0.0.1) (0.17.1)\n",
      "Installing collected packages: steering-optimizer\n",
      "  Found existing installation: steering-optimizer 0.0.1\n",
      "    Uninstalling steering-optimizer-0.0.1:\n",
      "      Successfully uninstalled steering-optimizer-0.0.1\n",
      "  Running setup.py develop for steering-optimizer\n",
      "Successfully installed steering-optimizer\n"
     ]
    }
   ],
   "source": [
    "!pip install -e C:\\Users\\asus_strix_scar\\Anaconda3\\Lib\\site-packages\\gym\\envs\\steering-optimizer\\steering_optimizer\\envs\\github\\steering-optimizer\\"
   ]
  },
  {
   "cell_type": "code",
   "execution_count": 2,
   "metadata": {},
   "outputs": [],
   "source": [
    "import numpy as np"
   ]
  },
  {
   "cell_type": "code",
   "execution_count": 3,
   "metadata": {},
   "outputs": [],
   "source": [
    "import gym"
   ]
  },
  {
   "cell_type": "code",
   "execution_count": 4,
   "metadata": {},
   "outputs": [],
   "source": [
    "for env in gym.envs.registry.env_specs.keys():\n",
    "     if 'steering_optimizer' in env:\n",
    "          print('Remove {} from registry\".format(env)')\n",
    "          del gym.envs.registry.env_specs[env]"
   ]
  },
  {
   "cell_type": "code",
   "execution_count": 5,
   "metadata": {},
   "outputs": [],
   "source": [
    "from gym.envs.registration import register\n",
    "\n",
    "register(\n",
    "    id='steering_optimizer-v0',\n",
    "    entry_point='steering_optimizer.envs:StrOptEnv',# kwargs={'WB': 1900, 'TW': 1200, 'KP': 150,'tr_min': 4000}\n",
    ")"
   ]
  },
  {
   "cell_type": "code",
   "execution_count": 6,
   "metadata": {},
   "outputs": [],
   "source": [
    "env = gym.make(\"steering_optimizer-v0\")"
   ]
  },
  {
   "cell_type": "code",
   "execution_count": 7,
   "metadata": {},
   "outputs": [],
   "source": [
    "#Fixed parameters\n",
    "\n",
    "#Wheelbase, track width and kingpin distance\n",
    "\n",
    "WB = 1900\n",
    "TW = 1200\n",
    "KP = 150"
   ]
  },
  {
   "cell_type": "code",
   "execution_count": 8,
   "metadata": {},
   "outputs": [],
   "source": [
    "batch_size = 50\n",
    "session_size = 50\n",
    "t_max = 200\n",
    "percentile = 80\n",
    "hidden_size = 30\n",
    "learning_rate = 0.01\n",
    "completion_score = 200"
   ]
  },
  {
   "cell_type": "code",
   "execution_count": 9,
   "metadata": {},
   "outputs": [],
   "source": [
    "import gym\n",
    "import numpy as np\n",
    "import torch\n",
    "import torch.nn as nn\n",
    "import torch.optim as optim\n",
    "import torch.nn.functional as F\n",
    "\n",
    "class Net(nn.Module):\n",
    "    def __init__(self, obs_size, hidden_size, n_actions):\n",
    "        super(Net, self).__init__()\n",
    "        self.fc1 = nn.Linear(obs_size, hidden_size)\n",
    "        self.fc2 = nn.Linear(hidden_size, n_actions)\n",
    "        \n",
    "    def forward(self, x):\n",
    "        x = F.relu(self.fc1(x))\n",
    "        return self.fc2(x)\n",
    "\n",
    "    def generate_batch(self, env, batch_size, t_max):\n",
    "        \n",
    "        activation_1 = nn.Softmax(dim=1)\n",
    "        batch_actions, batch_states, batch_rewards = [],[],[]\n",
    "        \n",
    "        for b in range(batch_size):\n",
    "            states,actions = [],[]\n",
    "            total_reward = 0\n",
    "            s = env.reset()\n",
    "            #print('state shape after reset:', s.shape)\n",
    "            s = s.reshape((1,4))\n",
    "            \n",
    " # Scaling the state width TW\n",
    "            s = s/TW*2\n",
    "            #print('state shape after reshape:', s.shape)\n",
    "            \n",
    "            count = 0\n",
    "            #print('batch:',b)\n",
    "            \n",
    "            for t in range(t_max):\n",
    "                count +=1\n",
    "                \n",
    "                s_v = torch.FloatTensor([s]).reshape(((1,4)))\n",
    "                #print('state_shape',s_v.shape)\n",
    "                #s_v = torch.FloatTensor([s])\n",
    "                \n",
    "                #print('state: x',s_v)\n",
    "                \n",
    "                act_probs_v = activation_1(self.forward(s_v))\n",
    "                act_probs = act_probs_v.data.numpy()[0]\n",
    "                choice_num = len(act_probs)\n",
    "                #print('num:',choice_num)\n",
    "                a = np.random.choice(choice_num, p=act_probs)\n",
    "                #print('action:',a)\n",
    "\n",
    "                new_s, r, done, info = env.step(a)\n",
    "                #new_s, r, done, info = env.step(8)\n",
    "\n",
    "                states.append(s)\n",
    "                actions.append(a)\n",
    "                \n",
    "                #print('new state',new_s)\n",
    "                \n",
    "                total_reward += r\n",
    "                \n",
    "                #print('reward:', total_reward)\n",
    " # Scaling the state width TW               \n",
    "                s = new_s/TW*2\n",
    "            \n",
    "                \n",
    "            #print('Batch member done')\n",
    "            batch_actions.append(actions)\n",
    "            batch_states.append(states)\n",
    "            batch_rewards.append(total_reward)\n",
    "        \n",
    "        #print('Batch generated')\n",
    "        #print('States:', batch_states)\n",
    "        #print('Actions:', batch_actions)\n",
    "        #print('Rewards:', batch_rewards)\n",
    "        \n",
    "        return batch_states, batch_actions, batch_rewards\n",
    "\n",
    "    def filter_batch(self,states_batch,actions_batch,rewards_batch,percentile):\n",
    "        \n",
    "        reward_threshold = np.percentile(rewards_batch, percentile)\n",
    "        \n",
    "        #print('reward threshold:', reward_threshold)\n",
    "        \n",
    "        threshold_cnt = 0\n",
    "        for i in range(len(rewards_batch)):\n",
    "            if rewards_batch[i] > reward_threshold:\n",
    "                threshold_cnt += 1\n",
    "                \n",
    "        elite_states = np.array([], dtype=float)\n",
    "        elite_actions = np.array([], dtype=int)\n",
    "        \n",
    "        elite_indices = []\n",
    "        \n",
    "        for i in range(len(rewards_batch)):\n",
    "            if rewards_batch[i] > reward_threshold:\n",
    "                elite_indices.append(i)\n",
    "        \n",
    "        elite_indices = np.asarray(elite_indices)\n",
    "        #print('indices', elite_indices)\n",
    "        \n",
    "        obs_num = np.shape(env.observation_space)[0]\n",
    "        #print('obs num:', obs_num)\n",
    "        \n",
    "        for i in range(batch_size):\n",
    "            for j in range(len(states_batch[i])):\n",
    "                    \n",
    "                if j == 0:\n",
    "                    #print('%d batch, %d count:' % (i,j) , states_batch[i][j][0])\n",
    "                    #print('%d batch, %d count:' % (i,j) , actions_batch[i][j])\n",
    "                    \n",
    "                   # for k in range(obs_num):\n",
    "                    #    elite_states = np.append(elite_states, states_batch[0][0][0][k])\n",
    "                        #print('elite states_iteration', elite_states)\n",
    "                        #print('%d batch, %d count:' % (i,j) , states_batch[i][j][0][k])\n",
    "                        \n",
    "                    elite_states = np.append(elite_states, states_batch[i][0][0]) \n",
    "                    elite_actions = np.append(elite_actions, actions_batch[0][0])\n",
    "                    #print('el_ac-> j:', elite_actions)\n",
    "                else:\n",
    "                    #print('%d batch, %d count:' % (i,j) , states_batch[i][j])\n",
    "                    #print('%d batch, %d count:' % (i,j) , actions_batch[i][j])\n",
    "                    #for k in range(obs_num):\n",
    "                        #elite_states = np.append(elite_states, states_batch[i][j][k])\n",
    "                        #print('%d batch, %d count:' % (i,j) , states_batch[i][j][k])\n",
    "                    elite_states = np.append(elite_states, states_batch[i][j])\n",
    "                    elite_actions = np.append(elite_actions, actions_batch[i][j])\n",
    "                    #elite_states.append(states_batch[i][j])\n",
    "                    #elite_actions.append(actions_batch[i][j])\n",
    "                \n",
    "        #print('elite_actions shape:',elite_actions.shape)\n",
    "        #print('elite_actions:',elite_actions)\n",
    "        return elite_states, elite_actions"
   ]
  },
  {
   "cell_type": "code",
   "execution_count": 10,
   "metadata": {},
   "outputs": [],
   "source": [
    "n_states = np.shape(env.observation_space)[0]\n",
    "n_actions = env.action_space.n\n",
    "\n",
    "#print(n_states, n_actions)\n",
    "\n",
    "#neural network\n",
    "net = Net(n_states, hidden_size, n_actions)"
   ]
  },
  {
   "cell_type": "code",
   "execution_count": 11,
   "metadata": {},
   "outputs": [
    {
     "name": "stdout",
     "output_type": "stream",
     "text": [
      "0: loss=2.21311, reward_mean=615.28877, reward_threshold=694.40604\n",
      "Environment has been successfullly completed!\n",
      "1: loss=2.19331, reward_mean=613.43508, reward_threshold=667.56649\n",
      "Environment has been successfullly completed!\n",
      "2: loss=2.19030, reward_mean=609.01955, reward_threshold=684.10963\n",
      "Environment has been successfullly completed!\n",
      "3: loss=2.19559, reward_mean=599.96033, reward_threshold=678.60184\n",
      "Environment has been successfullly completed!\n",
      "4: loss=2.17513, reward_mean=609.60563, reward_threshold=744.85756\n",
      "Environment has been successfullly completed!\n",
      "5: loss=2.19839, reward_mean=608.90329, reward_threshold=672.57225\n",
      "Environment has been successfullly completed!\n",
      "6: loss=2.22387, reward_mean=612.06459, reward_threshold=707.63509\n",
      "Environment has been successfullly completed!\n",
      "7: loss=2.15851, reward_mean=638.78577, reward_threshold=726.32454\n",
      "Environment has been successfullly completed!\n",
      "8: loss=2.19173, reward_mean=640.54149, reward_threshold=770.26634\n",
      "Environment has been successfullly completed!\n",
      "9: loss=2.17437, reward_mean=632.48584, reward_threshold=718.03944\n",
      "Environment has been successfullly completed!\n",
      "10: loss=2.19311, reward_mean=597.89113, reward_threshold=655.10561\n",
      "Environment has been successfullly completed!\n",
      "11: loss=2.17966, reward_mean=647.51116, reward_threshold=769.55797\n",
      "Environment has been successfullly completed!\n",
      "12: loss=2.14308, reward_mean=657.92243, reward_threshold=742.03885\n",
      "Environment has been successfullly completed!\n",
      "13: loss=2.15585, reward_mean=604.59209, reward_threshold=704.18641\n",
      "Environment has been successfullly completed!\n",
      "14: loss=2.16585, reward_mean=602.52111, reward_threshold=702.46794\n",
      "Environment has been successfullly completed!\n",
      "15: loss=2.17186, reward_mean=606.56534, reward_threshold=716.87500\n",
      "Environment has been successfullly completed!\n",
      "16: loss=2.16242, reward_mean=641.49381, reward_threshold=735.81097\n",
      "Environment has been successfullly completed!\n",
      "17: loss=2.14655, reward_mean=655.51324, reward_threshold=834.30745\n",
      "Environment has been successfullly completed!\n",
      "18: loss=2.13770, reward_mean=608.18186, reward_threshold=693.02472\n",
      "Environment has been successfullly completed!\n",
      "19: loss=2.21201, reward_mean=583.07271, reward_threshold=678.57708\n",
      "Environment has been successfullly completed!\n",
      "20: loss=2.13084, reward_mean=590.54974, reward_threshold=669.88296\n",
      "Environment has been successfullly completed!\n",
      "21: loss=2.11245, reward_mean=601.56990, reward_threshold=693.44021\n",
      "Environment has been successfullly completed!\n",
      "22: loss=2.15075, reward_mean=624.14407, reward_threshold=739.66018\n",
      "Environment has been successfullly completed!\n",
      "23: loss=2.13196, reward_mean=629.48741, reward_threshold=762.02302\n",
      "Environment has been successfullly completed!\n",
      "24: loss=2.10717, reward_mean=642.47921, reward_threshold=734.39809\n",
      "Environment has been successfullly completed!\n",
      "25: loss=2.11197, reward_mean=653.99675, reward_threshold=787.88503\n",
      "Environment has been successfullly completed!\n",
      "26: loss=2.14824, reward_mean=649.05190, reward_threshold=759.67934\n",
      "Environment has been successfullly completed!\n",
      "27: loss=2.14568, reward_mean=603.99855, reward_threshold=698.46595\n",
      "Environment has been successfullly completed!\n",
      "28: loss=2.08367, reward_mean=657.26526, reward_threshold=728.61360\n",
      "Environment has been successfullly completed!\n",
      "29: loss=2.17359, reward_mean=599.53547, reward_threshold=685.70397\n",
      "Environment has been successfullly completed!\n",
      "30: loss=2.16159, reward_mean=619.43113, reward_threshold=723.85064\n",
      "Environment has been successfullly completed!\n",
      "31: loss=2.13113, reward_mean=622.00785, reward_threshold=704.45620\n",
      "Environment has been successfullly completed!\n",
      "32: loss=2.08243, reward_mean=573.07375, reward_threshold=627.42362\n",
      "Environment has been successfullly completed!\n",
      "33: loss=2.08740, reward_mean=600.25211, reward_threshold=673.87564\n",
      "Environment has been successfullly completed!\n",
      "34: loss=2.14978, reward_mean=639.30272, reward_threshold=684.63987\n",
      "Environment has been successfullly completed!\n",
      "35: loss=2.06495, reward_mean=651.40514, reward_threshold=791.87395\n",
      "Environment has been successfullly completed!\n",
      "36: loss=2.12888, reward_mean=640.47916, reward_threshold=733.08593\n",
      "Environment has been successfullly completed!\n",
      "37: loss=2.16798, reward_mean=625.61947, reward_threshold=683.58768\n",
      "Environment has been successfullly completed!\n",
      "38: loss=2.06982, reward_mean=719.70548, reward_threshold=784.55255\n",
      "Environment has been successfullly completed!\n",
      "39: loss=2.17514, reward_mean=642.31095, reward_threshold=730.33889\n",
      "Environment has been successfullly completed!\n",
      "40: loss=2.11249, reward_mean=674.65503, reward_threshold=773.77362\n",
      "Environment has been successfullly completed!\n",
      "41: loss=2.15636, reward_mean=715.45170, reward_threshold=730.19327\n",
      "Environment has been successfullly completed!\n",
      "42: loss=2.09752, reward_mean=643.66897, reward_threshold=722.28180\n",
      "Environment has been successfullly completed!\n",
      "43: loss=2.15926, reward_mean=615.95397, reward_threshold=667.27327\n",
      "Environment has been successfullly completed!\n",
      "44: loss=2.13137, reward_mean=607.81718, reward_threshold=709.30691\n",
      "Environment has been successfullly completed!\n",
      "45: loss=2.07964, reward_mean=670.32929, reward_threshold=798.54023\n",
      "Environment has been successfullly completed!\n",
      "46: loss=2.05616, reward_mean=666.97766, reward_threshold=736.15166\n",
      "Environment has been successfullly completed!\n",
      "47: loss=2.09144, reward_mean=624.97871, reward_threshold=707.54945\n",
      "Environment has been successfullly completed!\n",
      "48: loss=2.06026, reward_mean=635.24168, reward_threshold=735.60105\n",
      "Environment has been successfullly completed!\n",
      "49: loss=2.07349, reward_mean=609.47460, reward_threshold=699.16202\n",
      "Environment has been successfullly completed!\n"
     ]
    }
   ],
   "source": [
    "#loss function\n",
    "objective = nn.CrossEntropyLoss()\n",
    "\n",
    "#optimisation function\n",
    "optimizer = optim.Adam(params=net.parameters(), lr=learning_rate)\n",
    "\n",
    "stats1 = np.array([])\n",
    "stats2 = np.array([])\n",
    "stats3 = np.array([])\n",
    "\n",
    "for i in range(session_size):\n",
    "    #generate new sessions\n",
    "    batch_states,batch_actions,batch_rewards = net.generate_batch(env, batch_size, 10)\n",
    "    \n",
    "    #print('batch_states', np.asarray(batch_states).reshape(-1,4))\n",
    "\n",
    "    elite_states, elite_actions = net.filter_batch(batch_states,batch_actions,batch_rewards,percentile)\n",
    "    \n",
    "    #print('el_states', elite_states)\n",
    "    elite_states = elite_states.reshape(-1,4)\n",
    "    \n",
    "    #print('el_states: reshaped', elite_states)\n",
    "    #print('el_actions', elite_actions)\n",
    "    \n",
    "    optimizer.zero_grad()\n",
    "\n",
    "    tensor_states = torch.FloatTensor(elite_states)\n",
    "    tensor_actions = torch.LongTensor(elite_actions)\n",
    "\n",
    "    action_scores_v = net(tensor_states)\n",
    "    \n",
    "    #print(action_scores_v)\n",
    "    \n",
    "    loss_v = objective(action_scores_v, tensor_actions)\n",
    "    loss_v.backward()\n",
    "    optimizer.step()\n",
    "\n",
    "    #show results\n",
    "    mean_reward, threshold = np.mean(batch_rewards), np.percentile(batch_rewards, percentile)\n",
    "    print(\"%d: loss=%.5f, reward_mean=%.5f, reward_threshold=%.5f\"% (i, loss_v.item(), mean_reward, threshold))\n",
    "    \n",
    "    stats1 = np.append(stats1, loss_v.item())\n",
    "    stats2 = np.append(stats2, mean_reward)\n",
    "    stats3 = np.append(stats3, threshold)\n",
    "    \n",
    "    #check if \n",
    "    if np.mean(batch_rewards)> completion_score:\n",
    "        print(\"Environment has been successfullly completed!\")"
   ]
  },
  {
   "cell_type": "code",
   "execution_count": 12,
   "metadata": {},
   "outputs": [
    {
     "data": {
      "text/plain": [
       "[<matplotlib.lines.Line2D at 0x1efdf7a7c08>]"
      ]
     },
     "execution_count": 12,
     "metadata": {},
     "output_type": "execute_result"
    },
    {
     "data": {
      "image/png": "[encoded data removed]",
      "text/plain": [
       "<Figure size 432x288 with 1 Axes>"
      ]
     },
     "metadata": {
      "needs_background": "light"
     },
     "output_type": "display_data"
    },
    {
     "data": {
      "image/png": "[encoded data removed]",
      "text/plain": [
       "<Figure size 432x288 with 1 Axes>"
      ]
     },
     "metadata": {
      "needs_background": "light"
     },
     "output_type": "display_data"
    },
    {
     "data": {
      "image/png": "[encoded data removed]",
      "text/plain": [
       "<Figure size 432x288 with 1 Axes>"
      ]
     },
     "metadata": {
      "needs_background": "light"
     },
     "output_type": "display_data"
    }
   ],
   "source": [
    "import matplotlib\n",
    "import matplotlib.pyplot as plt\n",
    "%matplotlib inline  \n",
    "\n",
    "plt.figure()\n",
    "plt.plot(stats1)\n",
    "plt.figure()\n",
    "plt.plot(stats2)\n",
    "plt.figure()\n",
    "plt.plot(stats3)"
   ]
  },
  {
   "cell_type": "code",
   "execution_count": null,
   "metadata": {},
   "outputs": [],
   "source": []
  }
 ],
 "metadata": {
  "kernelspec": {
   "display_name": "Python 3",
   "language": "python",
   "name": "python3"
  },
  "language_info": {
   "codemirror_mode": {
    "name": "ipython",
    "version": 3
   },
   "file_extension": ".py",
   "mimetype": "text/x-python",
   "name": "python",
   "nbconvert_exporter": "python",
   "pygments_lexer": "ipython3",
   "version": "3.7.4"
  }
 },
 "nbformat": 4,
 "nbformat_minor": 2
}
