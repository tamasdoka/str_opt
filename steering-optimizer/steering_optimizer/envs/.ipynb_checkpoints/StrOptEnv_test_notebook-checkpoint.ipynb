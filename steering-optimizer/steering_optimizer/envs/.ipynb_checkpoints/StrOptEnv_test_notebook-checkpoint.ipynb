{
 "cells": [
  {
   "cell_type": "code",
   "execution_count": 1,
   "metadata": {},
   "outputs": [],
   "source": [
    "import optimizer_env as st\n",
    "import numpy as np\n",
    "import matplotlib\n",
    "import matplotlib.pyplot as plt\n",
    "%matplotlib inline  \n",
    "\n",
    "env = st.StrOptEnv()"
   ]
  },
  {
   "cell_type": "code",
   "execution_count": 2,
   "metadata": {},
   "outputs": [],
   "source": [
    "env.reset()\n",
    "env.step(1)\n",
    "\n",
    "reward = np.array([])\n"
   ]
  },
  {
   "cell_type": "code",
   "execution_count": 3,
   "metadata": {},
   "outputs": [
    {
     "name": "stdout",
     "output_type": "stream",
     "text": [
      "(-82.95557257089527, -188.8094343190697, -425.6560817582703, -77.08907443214392)\n"
     ]
    },
    {
     "data": {
      "text/plain": [
       "[<matplotlib.lines.Line2D at 0x1ed68906ac8>]"
      ]
     },
     "execution_count": 3,
     "metadata": {},
     "output_type": "execute_result"
    },
    {
     "data": {
      "image/png": "[encoded data removed]",
      "text/plain": [
       "<Figure size 432x288 with 1 Axes>"
      ]
     },
     "metadata": {
      "needs_background": "light"
     },
     "output_type": "display_data"
    }
   ],
   "source": [
    "print(env.state)\n",
    "plt.plot([env.KPLX, env.state[2], env.state[0], -env.state[0]], [env.KPLY, env.state[3], env.state[1], env.state[1]])"
   ]
  },
  {
   "cell_type": "code",
   "execution_count": 4,
   "metadata": {},
   "outputs": [
    {
     "data": {
      "text/plain": [
       "(array([ -82.95557257, -189.80943432, -426.65608176,  -77.08907443]),\n",
       " 0.03143245910001288,\n",
       " False,\n",
       " {})"
      ]
     },
     "execution_count": 4,
     "metadata": {},
     "output_type": "execute_result"
    }
   ],
   "source": [
    "env.step(2)"
   ]
  },
  {
   "cell_type": "code",
   "execution_count": null,
   "metadata": {},
   "outputs": [
    {
     "name": "stdout",
     "output_type": "stream",
     "text": [
      "0 None\n",
      "1 None\n",
      "2 None\n",
      "3 None\n",
      "4 None\n",
      "5 None\n",
      "6 None\n",
      "7 None\n",
      "8 None\n",
      "9 None\n",
      "10 None\n",
      "11 None\n",
      "12 None\n",
      "13 None\n",
      "14 None\n",
      "15 None\n",
      "16 None\n",
      "17 None\n",
      "18 None\n",
      "19 None\n",
      "20 None\n",
      "21 None\n",
      "22 None\n",
      "23 None\n",
      "24 None\n",
      "25 None\n",
      "26 None\n",
      "27 None\n",
      "28 None\n",
      "29 None\n",
      "30 None\n",
      "31 None\n",
      "32 None\n",
      "33 None\n",
      "34 None\n",
      "35 None\n",
      "36 None\n",
      "37 None\n",
      "38 None\n",
      "39 None\n",
      "40 None\n",
      "41 None\n",
      "42 None\n",
      "43 None\n",
      "44 None\n",
      "45 None\n",
      "46 None\n",
      "47 None\n",
      "48 None\n",
      "49 None\n",
      "50 None\n",
      "51 None\n",
      "52 None\n",
      "53 None\n",
      "54 None\n",
      "55 None\n",
      "56 None\n",
      "57 None\n",
      "58 None\n",
      "59 None\n",
      "60 None\n",
      "61 None\n",
      "62 None\n",
      "63 None\n",
      "64 None\n",
      "65 None\n",
      "66 None\n",
      "67 None\n",
      "68 None\n",
      "69 None\n",
      "70 None\n",
      "71 None\n",
      "72 None\n",
      "73 None\n",
      "74 None\n",
      "75 None\n",
      "76 None\n",
      "77 None\n",
      "78 None\n",
      "79 None\n",
      "80 None\n",
      "81 None\n",
      "82 None\n",
      "83 None\n",
      "84 None\n",
      "85 None\n",
      "86 None\n",
      "87 None\n",
      "88 None\n",
      "89 None\n",
      "90 None\n",
      "91 None\n",
      "92 None\n",
      "93 None\n",
      "94 None\n",
      "95 None\n",
      "96 None\n",
      "97 None\n",
      "98 None\n",
      "99 None\n",
      "100 None\n",
      "101 None\n",
      "102 None\n",
      "103 None\n",
      "104 None\n",
      "105 None\n",
      "106 None\n",
      "107 None\n",
      "108 None\n",
      "109 None\n",
      "110 None\n",
      "111 None\n",
      "112 None\n",
      "113 None\n",
      "114 None\n",
      "115 None\n",
      "116 None\n",
      "117 None\n",
      "118 None\n",
      "119 None\n",
      "120 None\n",
      "121 None\n",
      "122 None\n",
      "123 None\n",
      "124 None\n",
      "125 None\n",
      "126 None\n",
      "127 None\n",
      "128 None\n",
      "129 None\n",
      "130 None\n",
      "131 None\n",
      "132 None\n",
      "133 None\n",
      "134 None\n",
      "135 None\n",
      "136 None\n",
      "137 None\n",
      "138 None\n",
      "139 None\n",
      "140 None\n",
      "141 None\n",
      "142 None\n",
      "143 None\n",
      "144 None\n",
      "145 None\n",
      "146 None\n",
      "147 None\n",
      "148 None\n",
      "149 None\n",
      "150 None\n",
      "151 None\n",
      "152 None\n",
      "153 None\n",
      "154 None\n",
      "155 None\n",
      "156 None\n",
      "157 None\n",
      "158 None\n",
      "159 None\n",
      "160 None\n",
      "161 None\n",
      "162 None\n",
      "163 None\n",
      "164 None\n",
      "165 None\n",
      "166 None\n",
      "167 None\n",
      "168 None\n",
      "169 None\n",
      "170 None\n",
      "171 None\n",
      "172 None\n",
      "173 None\n",
      "174 None\n",
      "175 None\n",
      "176 None\n",
      "177 None\n",
      "178 None\n",
      "179 None\n",
      "180 None\n",
      "181 None\n",
      "182 None\n",
      "183 None\n",
      "184 None\n",
      "185 None\n",
      "186 None\n",
      "187 None\n",
      "188 None\n",
      "189 None\n",
      "190 None\n",
      "191 None\n",
      "192 None\n",
      "193 None\n",
      "194 None\n",
      "195 None\n",
      "196 None\n",
      "197 None\n",
      "198 None\n",
      "199 None\n",
      "200 None\n",
      "201 None\n",
      "202 None\n",
      "203 None\n",
      "204 None\n",
      "205 None\n",
      "206 None\n",
      "207 None\n",
      "208 None\n",
      "209 None\n",
      "210 None\n",
      "211 None\n",
      "212 None\n",
      "213 None\n",
      "214 None\n",
      "215 None\n",
      "216 None\n",
      "217 None\n",
      "218 None\n",
      "219 None\n",
      "220 None\n",
      "221 None\n",
      "222 None\n",
      "223 None\n",
      "224 None\n",
      "225 None\n",
      "226 None\n",
      "227 None\n",
      "228 None\n",
      "229 None\n",
      "230 None\n",
      "231 None\n",
      "232 None\n",
      "233 None\n",
      "234 None\n",
      "235 None\n",
      "236 None\n",
      "237 None\n",
      "238 None\n",
      "239 None\n",
      "240 None\n",
      "241 None\n",
      "242 None\n",
      "243 None\n",
      "244 None\n",
      "Error is not valid!: -0.014029082969226432\n",
      "integral_chk: 0\n",
      "len(error_array) - integral_check 20\n",
      "len(error_array) 20\n",
      "b_index 20\n",
      "Press Enter to continue...\n",
      "245 [0.00000000e+00 6.57311207e-08 1.51255346e-06 1.21546498e-05\n",
      " 6.28185069e-05 2.47139165e-04 7.95563068e-04 2.18499464e-03\n",
      " 5.27097893e-03 1.14197057e-02 2.26206262e-02 4.15765252e-02\n",
      " 7.17891781e-02 1.17679616e-01 1.84806210e-01 2.80290833e-01\n",
      " 4.13689914e-01 5.98947290e-01 8.59638070e-01 1.24904524e+00]\n",
      "Error is not valid!: -0.015118137732963086\n",
      "integral_chk: 0\n",
      "len(error_array) - integral_check 20\n",
      "len(error_array) 20\n",
      "b_index 20\n"
     ]
    }
   ],
   "source": [
    "env.reset()\n",
    "for i in range(500):\n",
    "    act = np.random.randint(0,1)\n",
    "    #valami = env.reset()\n",
    "    valami = env.step(act)[0]\n",
    "    plt.plot([env.KPLX, env.state[2], env.state[0], -env.state[0]], [env.KPLY, env.state[3], env.state[1], env.state[1]])\n",
    "    plt.show\n",
    "    print(i, env.check_error)\n",
    "\n",
    "plt.show()"
   ]
  },
  {
   "cell_type": "code",
   "execution_count": null,
   "metadata": {},
   "outputs": [],
   "source": [
    "env.check_error"
   ]
  },
  {
   "cell_type": "code",
   "execution_count": null,
   "metadata": {},
   "outputs": [],
   "source": [
    "import numpy as np\n",
    "import matplotlib\n",
    "import matplotlib.pyplot as plt\n",
    "%matplotlib inline  \n",
    "\n",
    "#plt.plot(env.b0_array + env.KPLX, env.b1_array + env.KPLY)\n",
    "#plt.plot(env.b2_array + env.KPLX, env.b3_array + env.KPLY)\n",
    "#plt.plot(env.b4_array + env.KPLX, env.b5_array)\n",
    "#plt.plot(env.b6_array + env.KPLX, env.b7_array)\n",
    "\n",
    "#plt.plot([env.KPLX, env.Ax0, env.Dx, -env.Dx], [env.KPLY, env.Ay0, env.Dy, env.Dy])\n",
    "#plt.plot(env.z_array, env.b1_array/np.pi*180)\n",
    "#plt.plot(np.flip(env.z_array, 0), env.r_array/2/np.pi*180)\n",
    "plt.plot(reward)\n",
    "#plt.axis('equal')\n",
    "plt.show()"
   ]
  },
  {
   "cell_type": "code",
   "execution_count": null,
   "metadata": {},
   "outputs": [],
   "source": [
    "plt.plot(env.z_array, env.r_array/np.pi*180)\n",
    "plt.plot(env.z_array, env.l_array/np.pi*180)\n",
    "plt.plot(env.z_array, env.k_array/np.pi*180)\n"
   ]
  },
  {
   "cell_type": "code",
   "execution_count": null,
   "metadata": {},
   "outputs": [],
   "source": [
    "print(env.k_array[0]/np.pi*180)\n",
    "print(env.r_array[0]/np.pi*180)"
   ]
  },
  {
   "cell_type": "code",
   "execution_count": null,
   "metadata": {},
   "outputs": [],
   "source": [
    "env.k_array"
   ]
  },
  {
   "cell_type": "code",
   "execution_count": null,
   "metadata": {},
   "outputs": [],
   "source": [
    "plt.plot(env.r_array, (env.l_array - env.r_array))\n",
    "plt.plot(env.r_array, (env.k_array - env.r_array))"
   ]
  },
  {
   "cell_type": "code",
   "execution_count": null,
   "metadata": {},
   "outputs": [],
   "source": [
    "plt.plot(env.r_array, ((env.k_array - env.l_array)**2))"
   ]
  },
  {
   "cell_type": "code",
   "execution_count": null,
   "metadata": {},
   "outputs": [],
   "source": [
    "env.tr_eval"
   ]
  },
  {
   "cell_type": "code",
   "execution_count": null,
   "metadata": {},
   "outputs": [],
   "source": [
    "env.error"
   ]
  },
  {
   "cell_type": "code",
   "execution_count": null,
   "metadata": {},
   "outputs": [],
   "source": [
    "import timeit\n",
    "import numpy as np\n",
    "\n",
    "start = timeit.default_timer()\n",
    "\n",
    "o = np.empty([])\n",
    "oo = np.empty([])\n",
    "\n",
    "i = 1\n",
    "for i in range(100):\n",
    "    env.step(-100 + 2*i)\n",
    "    o = np.append(o, env.error)\n",
    "    oo = np.append(oo, env.error_orig)\n",
    "    \n",
    "    plt.plot(env.r_array/np.pi*180, env.error_array/np.pi*180)\n",
    "    plt.axvline(x=env.border_ang/np.pi*180)\n",
    "    i += 1\n",
    "    \n",
    "stop = timeit.default_timer()\n",
    "print('Time: ', stop - start)\n",
    "\n",
    "plt.figure()\n",
    "plt.plot(o[1:], '.')\n",
    "plt.plot(oo[1:], '.')\n",
    "\n",
    "\n"
   ]
  },
  {
   "cell_type": "code",
   "execution_count": null,
   "metadata": {},
   "outputs": [],
   "source": [
    "env.border_ang/np.pi*180"
   ]
  },
  {
   "cell_type": "code",
   "execution_count": null,
   "metadata": {},
   "outputs": [],
   "source": [
    "env.step(0)"
   ]
  },
  {
   "cell_type": "code",
   "execution_count": null,
   "metadata": {},
   "outputs": [],
   "source": [
    "len(env.error_array)"
   ]
  },
  {
   "cell_type": "code",
   "execution_count": null,
   "metadata": {},
   "outputs": [],
   "source": [
    "len(env.r_array)"
   ]
  },
  {
   "cell_type": "code",
   "execution_count": null,
   "metadata": {},
   "outputs": [],
   "source": [
    "np.trapz(env.error_array, env.r_array)"
   ]
  },
  {
   "cell_type": "code",
   "execution_count": null,
   "metadata": {},
   "outputs": [],
   "source": [
    "plt.figure()\n",
    "plt.plot(env.r_array[0:len(env.error_array)-env.int_chk], o[1:len(env.error_array)-env.int_chk+1], '.')\n",
    "plt.plot(env.r_array, oo[1:], '.')\n",
    "\n",
    "\n"
   ]
  },
  {
   "cell_type": "code",
   "execution_count": null,
   "metadata": {},
   "outputs": [],
   "source": [
    "env.int_chk"
   ]
  },
  {
   "cell_type": "code",
   "execution_count": null,
   "metadata": {},
   "outputs": [],
   "source": [
    "plt.plot(env.r_array/np.pi*180, env.error_array/np.pi*180)\n",
    "plt.axvline(x=env.border_ang/np.pi*180)"
   ]
  },
  {
   "cell_type": "code",
   "execution_count": null,
   "metadata": {},
   "outputs": [],
   "source": [
    "result = {\n",
    "  'a': lambda x: env.Dx = env.Dx + x,\n",
    "  'b': lambda x: x + 7,\n",
    "}['a'](5)"
   ]
  },
  {
   "cell_type": "code",
   "execution_count": null,
   "metadata": {},
   "outputs": [],
   "source": [
    "result"
   ]
  },
  {
   "cell_type": "code",
   "execution_count": null,
   "metadata": {},
   "outputs": [],
   "source": []
  }
 ],
 "metadata": {
  "kernelspec": {
   "display_name": "Python 3",
   "language": "python",
   "name": "python3"
  },
  "language_info": {
   "codemirror_mode": {
    "name": "ipython",
    "version": 3
   },
   "file_extension": ".py",
   "mimetype": "text/x-python",
   "name": "python",
   "nbconvert_exporter": "python",
   "pygments_lexer": "ipython3",
   "version": "3.7.4"
  }
 },
 "nbformat": 4,
 "nbformat_minor": 2
}
