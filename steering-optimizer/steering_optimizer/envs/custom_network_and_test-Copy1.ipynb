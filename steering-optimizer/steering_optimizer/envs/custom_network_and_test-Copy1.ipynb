{
 "cells": [
  {
   "cell_type": "code",
   "execution_count": 1,
   "metadata": {},
   "outputs": [
    {
     "name": "stdout",
     "output_type": "stream",
     "text": [
      "Obtaining file:///C:/Users/asus_strix_scar/Anaconda3/Lib/site-packages/gym/envs/steering-optimizer/steering_optimizer/envs/github/steering-optimizer\n",
      "Requirement already satisfied: gym in c:\\users\\asus_strix_scar\\anaconda3\\lib\\site-packages (from steering-optimizer==0.0.1) (0.15.4)\n",
      "Requirement already satisfied: pyeasyga in c:\\users\\asus_strix_scar\\anaconda3\\lib\\site-packages (from steering-optimizer==0.0.1) (0.3.1)\n",
      "Requirement already satisfied: opencv-python in c:\\users\\asus_strix_scar\\anaconda3\\lib\\site-packages (from gym->steering-optimizer==0.0.1) (4.1.2.30)\n",
      "Requirement already satisfied: cloudpickle~=1.2.0 in c:\\users\\asus_strix_scar\\anaconda3\\lib\\site-packages (from gym->steering-optimizer==0.0.1) (1.2.2)\n",
      "Requirement already satisfied: numpy>=1.10.4 in c:\\users\\asus_strix_scar\\anaconda3\\lib\\site-packages (from gym->steering-optimizer==0.0.1) (1.16.5)\n",
      "Requirement already satisfied: pyglet<=1.3.2,>=1.2.0 in c:\\users\\asus_strix_scar\\anaconda3\\lib\\site-packages (from gym->steering-optimizer==0.0.1) (1.3.2)\n",
      "Requirement already satisfied: scipy in c:\\users\\asus_strix_scar\\anaconda3\\lib\\site-packages (from gym->steering-optimizer==0.0.1) (1.3.1)\n",
      "Requirement already satisfied: six in c:\\users\\asus_strix_scar\\anaconda3\\lib\\site-packages (from gym->steering-optimizer==0.0.1) (1.12.0)\n",
      "Requirement already satisfied: future in c:\\users\\asus_strix_scar\\anaconda3\\lib\\site-packages (from pyglet<=1.3.2,>=1.2.0->gym->steering-optimizer==0.0.1) (0.17.1)\n",
      "Installing collected packages: steering-optimizer\n",
      "  Found existing installation: steering-optimizer 0.0.1\n",
      "    Uninstalling steering-optimizer-0.0.1:\n",
      "      Successfully uninstalled steering-optimizer-0.0.1\n",
      "  Running setup.py develop for steering-optimizer\n",
      "Successfully installed steering-optimizer\n"
     ]
    }
   ],
   "source": [
    "!pip install -e C:\\Users\\asus_strix_scar\\Anaconda3\\Lib\\site-packages\\gym\\envs\\steering-optimizer\\steering_optimizer\\envs\\github\\steering-optimizer\\"
   ]
  },
  {
   "cell_type": "code",
   "execution_count": 2,
   "metadata": {},
   "outputs": [],
   "source": [
    "import numpy as np"
   ]
  },
  {
   "cell_type": "code",
   "execution_count": 3,
   "metadata": {},
   "outputs": [],
   "source": [
    "import gym"
   ]
  },
  {
   "cell_type": "code",
   "execution_count": 4,
   "metadata": {},
   "outputs": [],
   "source": [
    "#Deleting registered environment\n",
    "\n",
    "for env in gym.envs.registry.env_specs.keys():\n",
    "     if 'steering_optimizer' in env:\n",
    "          print('Remove {} from registry\".format(env)')\n",
    "          del gym.envs.registry.env_specs[env]"
   ]
  },
  {
   "cell_type": "code",
   "execution_count": 5,
   "metadata": {},
   "outputs": [],
   "source": [
    "#Registering environment\n",
    "from gym.envs.registration import register\n",
    "\n",
    "register(\n",
    "    id='steering_optimizer-v0',\n",
    "    entry_point='steering_optimizer.envs:StrOptEnv',# kwargs={'WB': 1900, 'TW': 1200, 'KP': 150,'tr_min': 4000}\n",
    ")"
   ]
  },
  {
   "cell_type": "code",
   "execution_count": 6,
   "metadata": {},
   "outputs": [],
   "source": [
    "env = gym.make(\"steering_optimizer-v0\")"
   ]
  },
  {
   "cell_type": "code",
   "execution_count": 7,
   "metadata": {},
   "outputs": [],
   "source": [
    "#Fixed parameters\n",
    "\n",
    "#Wheelbase, track width and kingpin distance\n",
    "\n",
    "WB = 1900\n",
    "TW = 1200\n",
    "KP = 150"
   ]
  },
  {
   "cell_type": "code",
   "execution_count": 8,
   "metadata": {},
   "outputs": [],
   "source": [
    "# Training parameters\n",
    "\n",
    "batch_size = 20\n",
    "session_size = 20\n",
    "t_max = 200\n",
    "percentile = 80\n",
    "hidden_size = 20\n",
    "learning_rate = 0.01\n",
    "completion_score = 50"
   ]
  },
  {
   "cell_type": "code",
   "execution_count": 9,
   "metadata": {},
   "outputs": [],
   "source": [
    "# Definition of the agent\n",
    "\n",
    "import gym\n",
    "import numpy as np\n",
    "import torch\n",
    "import torch.nn as nn\n",
    "import torch.optim as optim\n",
    "import torch.nn.functional as F\n",
    "\n",
    "class Net(nn.Module):\n",
    "        \n",
    "    def __init__(self, obs_size, hidden_size, n_actions):\n",
    "        super(Net, self).__init__()\n",
    "        self.fc0 = nn.Linear(obs_size, hidden_size)\n",
    "        self.fc1 = nn.Linear(hidden_size, n_actions)\n",
    "    \n",
    "    # Forward step: input is the observed state, output is the agent's action\n",
    "    def forward(self, x):\n",
    "        activation = nn.Softmax(dim=1)\n",
    "        \n",
    "        x = F.relu(self.fc0(x))\n",
    "        \n",
    "        return activation(self.fc1(x))\n",
    "    \n",
    "    # Batch generation: creating training episodes with resulting total rewards, later the episodes\n",
    "    # with best rewards will serve as the training set from every batch\n",
    "    def generate_batch(self, env, batch_size, t_max):\n",
    "        \n",
    "        # Initalizing empty lists for the generated episodes\n",
    "        batch_actions, batch_states, batch_rewards = [],[],[]\n",
    "        \n",
    "        # Reset only once in a batch, so the action sets which give the best reward will be the training example\n",
    "        # reset() returns with a random state\n",
    "        s_0 = env.reset()\n",
    "        \n",
    "        for b in range(batch_size):\n",
    "            states,actions = [],[]\n",
    "            total_reward = 0\n",
    "            \n",
    "            # Imitating reset, with the same initial state for every batch member\n",
    "            env.state = s_0\n",
    "            \n",
    "            s = s_0\n",
    "            \n",
    "            env.steps_beyond_done = None\n",
    "            env.error = None\n",
    "            env.max_r = None\n",
    "            env.steps_since_reset = 0\n",
    "            env.total_reward = 0\n",
    "            \n",
    "            # Reshape the state for thorch\n",
    "            s = s.reshape((1,4))\n",
    "            \n",
    "            # Resetting the the step counter to keep track of the episode length\n",
    "            count = 0\n",
    "            \n",
    "            # Taking actions in every episode\n",
    "            for t in range(t_max):\n",
    "                count +=1\n",
    "                \n",
    "                # Scaling state to be within -1 and 1, because half of track width (TW/2) is the maximum value of every\n",
    "                # State member\n",
    "                s = s/TW*2\n",
    "                \n",
    "                # Converting to tensor\n",
    "                s_v = torch.FloatTensor([s]).reshape(((1,4)))\n",
    "                \n",
    "                # Calculating the action probabilities\n",
    "                act_probs_v = self.forward(s_v)\n",
    "                \n",
    "                # Extracting the values\n",
    "                act_probs = act_probs_v.data.numpy()[0]\n",
    "                \n",
    "                # Number of possible actions\n",
    "                choice_num = len(act_probs)\n",
    "                \n",
    "                # Selecting a random action based on probabilities\n",
    "                a = np.random.choice(choice_num, p=act_probs)\n",
    "                   \n",
    "                # Taking a step with the selected action -> new_state is not scaled!\n",
    "                new_s, r, done, info = env.step(a)\n",
    "                \n",
    "                # Storing the state and the action which was selected to that state\n",
    "                states.append(s)\n",
    "                actions.append(a)\n",
    "                \n",
    "                # Cumulative reward\n",
    "                total_reward += r\n",
    "                \n",
    "\n",
    "                # Getting the new state -> Scaling happens in the beginning of the for loop!     \n",
    "                s = new_s\n",
    "                \n",
    "                # After the episode is done (for example: out of range, reaching error threshold), no more steps\n",
    "                if done:\n",
    "                    break\n",
    "            \n",
    "            \n",
    "            # Storing actions, states, and total rewards for each episode in batch\n",
    "            batch_actions.append(actions)\n",
    "            batch_states.append(states)\n",
    "            batch_rewards.append(total_reward)\n",
    "        \n",
    "        return batch_states, batch_actions, batch_rewards\n",
    "\n",
    "    # Filtering only the best episodes for training\n",
    "    def filter_batch(self, states_batch, actions_batch, rewards_batch, percentile):\n",
    "        \n",
    "        # Reward above the episodes are used as training examples\n",
    "        \n",
    "        reward_threshold = np.percentile(rewards_batch, percentile)\n",
    "        \n",
    "        # Episodes with negative reward are useless\n",
    "        if reward_threshold < 0:\n",
    "            reward_threshold = 1\n",
    "        \n",
    "        # Counting the above threshold episodes\n",
    "        threshold_cnt = 0\n",
    "        for i in range(len(rewards_batch)):\n",
    "            if rewards_batch[i] > reward_threshold:\n",
    "                threshold_cnt += 1\n",
    "        \n",
    "        # Initializing empty lists for the training state - action pairs     \n",
    "        elite_states = np.array([], dtype=float)\n",
    "        elite_actions = np.array([], dtype=int)\n",
    "        \n",
    "        # Storing only the best episodes for training\n",
    "        for i in range(batch_size):\n",
    "            for j in range(len(states_batch[i])):\n",
    "                    \n",
    "                if j == 0:\n",
    "                    elite_states = np.append(elite_states, states_batch[i][0][0]) \n",
    "                    elite_actions = np.append(elite_actions, actions_batch[0][0])\n",
    "\n",
    "                else:\n",
    "                    elite_states = np.append(elite_states, states_batch[i][j])\n",
    "                    elite_actions = np.append(elite_actions, actions_batch[i][j])\n",
    "\n",
    "        return elite_states, elite_actions"
   ]
  },
  {
   "cell_type": "code",
   "execution_count": 10,
   "metadata": {},
   "outputs": [],
   "source": [
    "# Initializing the agent\n",
    "\n",
    "n_states = np.shape(env.observation_space)[0]\n",
    "n_actions = env.action_space.n\n",
    "\n",
    "# Agent network \n",
    "net = Net(n_states, hidden_size, n_actions)"
   ]
  },
  {
   "cell_type": "code",
   "execution_count": 11,
   "metadata": {},
   "outputs": [
    {
     "name": "stdout",
     "output_type": "stream",
     "text": [
      "[0.15 0.14 0.11 0.09 0.07 0.16 0.1  0.08 0.1 ]\n",
      "5\n"
     ]
    }
   ],
   "source": [
    "# Check the initialized network on an example state\n",
    "\n",
    "s = np.asarray([-100, -200, -410, -50])\n",
    "\n",
    "s = s/TW*2\n",
    "\n",
    "s_v = torch.FloatTensor([s]).reshape(((1,4)))\n",
    "\n",
    "next_step = net.forward(s_v)\n",
    "\n",
    "print(np.round((next_step[0]).detach().numpy(),decimals=2))\n",
    "print(np.argmax((next_step[0]).detach().numpy()))"
   ]
  },
  {
   "cell_type": "code",
   "execution_count": 12,
   "metadata": {},
   "outputs": [
    {
     "name": "stdout",
     "output_type": "stream",
     "text": [
      "0: loss=2.18962, reward_mean=0.06440, reward_threshold=0.73210\n",
      "1: loss=2.18417, reward_mean=-5.02695, reward_threshold=-2.25710\n",
      "2: loss=2.18061, reward_mean=-9.10810, reward_threshold=-8.58260\n",
      "3: loss=2.13353, reward_mean=-1.00000, reward_threshold=-1.00000\n",
      "4: loss=2.17259, reward_mean=-2.20953, reward_threshold=-1.26830\n",
      "5: loss=2.17232, reward_mean=-8.01095, reward_threshold=-6.79130\n",
      "6: loss=2.17257, reward_mean=-4.33105, reward_threshold=-3.15310\n",
      "7: loss=2.16840, reward_mean=-2.67993, reward_threshold=-1.79450\n",
      "8: loss=2.15808, reward_mean=-0.68085, reward_threshold=-0.57470\n",
      "9: loss=2.15700, reward_mean=-8.78567, reward_threshold=-7.45180\n",
      "10: loss=2.15373, reward_mean=-0.77010, reward_threshold=-0.66560\n",
      "11: loss=2.14270, reward_mean=-0.88172, reward_threshold=-0.68630\n",
      "12: loss=2.12952, reward_mean=-5.75020, reward_threshold=-4.92570\n",
      "13: loss=2.12336, reward_mean=-4.70257, reward_threshold=-3.82200\n",
      "14: loss=2.05845, reward_mean=-1.00000, reward_threshold=-1.00000\n",
      "15: loss=2.09822, reward_mean=-4.01865, reward_threshold=-3.31560\n",
      "16: loss=2.09477, reward_mean=-1.10892, reward_threshold=-0.82560\n",
      "17: loss=2.26685, reward_mean=-1.00005, reward_threshold=-1.00000\n",
      "18: loss=2.06854, reward_mean=-2.33130, reward_threshold=-2.00080\n",
      "19: loss=2.05694, reward_mean=-2.38877, reward_threshold=-1.96480\n"
     ]
    }
   ],
   "source": [
    "# Loss function\n",
    "objective = nn.CrossEntropyLoss()\n",
    "\n",
    "# Optimisation function\n",
    "optimizer = optim.Adam(params=net.parameters(), lr=learning_rate)\n",
    "\n",
    "stats1 = np.array([])\n",
    "stats2 = np.array([])\n",
    "stats3 = np.array([])\n",
    "\n",
    "for i in range(session_size):\n",
    "    # Generate new sessions\n",
    "    batch_states,batch_actions,batch_rewards = net.generate_batch(env, batch_size, t_max)\n",
    "    \n",
    "    # Getting the best episodes as training examples\n",
    "    elite_states, elite_actions = net.filter_batch(batch_states,batch_actions,batch_rewards,percentile)\n",
    "    \n",
    "    # Reshape the states for processing\n",
    "    elite_states = elite_states.reshape(-1,4)\n",
    "    \n",
    "    # Setting the opimizer gradients to zero\n",
    "    optimizer.zero_grad()\n",
    "    \n",
    "    # Converting to tensors\n",
    "    tensor_states = torch.FloatTensor(elite_states)\n",
    "    tensor_actions = torch.LongTensor(elite_actions)\n",
    "\n",
    "    # Calculating the agent's actions for the selected states\n",
    "    action_scores_v = net(tensor_states)\n",
    "    \n",
    "    # Optimizing the network parameters to match the desired actions\n",
    "    loss_v = objective(action_scores_v, tensor_actions)\n",
    "    loss_v.backward()\n",
    "    optimizer.step()\n",
    "\n",
    "    # Showing results\n",
    "    mean_reward, threshold = np.mean(batch_rewards), np.percentile(batch_rewards, percentile)\n",
    "    print(\"%d: loss=%.5f, reward_mean=%.5f, reward_threshold=%.5f\"% (i, loss_v.item(), mean_reward, threshold))\n",
    "    \n",
    "    stats1 = np.append(stats1, loss_v.item())\n",
    "    stats2 = np.append(stats2, mean_reward)\n",
    "    stats3 = np.append(stats3, threshold)\n",
    "    \n",
    "    # Check if training completed\n",
    "    if np.mean(batch_rewards)> completion_score:\n",
    "        print(\"Environment has been successfully completed!\")"
   ]
  },
  {
   "cell_type": "code",
   "execution_count": 13,
   "metadata": {},
   "outputs": [
    {
     "data": {
      "text/plain": [
       "[<matplotlib.lines.Line2D at 0x1ec12f729c8>]"
      ]
     },
     "execution_count": 13,
     "metadata": {},
     "output_type": "execute_result"
    },
    {
     "data": {
      "image/png": "[encoded data removed]",
      "text/plain": [
       "<Figure size 432x288 with 1 Axes>"
      ]
     },
     "metadata": {
      "needs_background": "light"
     },
     "output_type": "display_data"
    },
    {
     "data": {
      "image/png": "[encoded data removed]",
      "text/plain": [
       "<Figure size 432x288 with 1 Axes>"
      ]
     },
     "metadata": {
      "needs_background": "light"
     },
     "output_type": "display_data"
    },
    {
     "data": {
      "image/png": "[encoded data removed]",
      "text/plain": [
       "<Figure size 432x288 with 1 Axes>"
      ]
     },
     "metadata": {
      "needs_background": "light"
     },
     "output_type": "display_data"
    }
   ],
   "source": [
    "# Plotting results\n",
    "\n",
    "import matplotlib\n",
    "import matplotlib.pyplot as plt\n",
    "%matplotlib inline  \n",
    "\n",
    "plt.figure()\n",
    "plt.plot(stats1)\n",
    "plt.figure()\n",
    "plt.plot(stats2)\n",
    "plt.figure()\n",
    "plt.plot(stats3)"
   ]
  },
  {
   "cell_type": "code",
   "execution_count": 14,
   "metadata": {},
   "outputs": [
    {
     "name": "stdout",
     "output_type": "stream",
     "text": [
      "[0.33 0.16 0.04 0.02 0.02 0.35 0.03 0.02 0.03]\n",
      "[0. 0. 0. 0. 0. 0. 0. 0. 0.]\n",
      "5\n"
     ]
    }
   ],
   "source": [
    "# Checking the network after training\n",
    "\n",
    "s = np.asarray([-100, -200, -510, -50])\n",
    "\n",
    "s = s/TW*2\n",
    "\n",
    "s_v = torch.FloatTensor([s]).reshape(((1,4)))\n",
    "\n",
    "next_step = net.forward(s_v)\n",
    "\n",
    "print(np.round((next_step[0]).detach().numpy(),decimals=2))\n",
    "print(np.round((next_step[0]).detach().numpy(),decimals=0))\n",
    "print(np.argmax((next_step[0]).detach().numpy()))"
   ]
  },
  {
   "cell_type": "code",
   "execution_count": 15,
   "metadata": {},
   "outputs": [],
   "source": [
    "# Saving trained agent\n",
    "\n",
    "import os\n",
    "\n",
    "currentDirectory = os.getcwd()\n",
    "\n",
    "torch.save(net.state_dict(), currentDirectory+\"a.txt\")"
   ]
  },
  {
   "cell_type": "code",
   "execution_count": 16,
   "metadata": {},
   "outputs": [],
   "source": [
    "# Rendering\n",
    "#import gym.wrappers\n",
    "#env = gym.wrappers.Monitor(gym.make(\"steering_optimizer-v0\"), directory=\"videos\", force=True)\n",
    "#net.generate_batch(env, 1, t_max=5000)\n",
    "#env.close()"
   ]
  }
 ],
 "metadata": {
  "kernelspec": {
   "display_name": "Python 3",
   "language": "python",
   "name": "python3"
  },
  "language_info": {
   "codemirror_mode": {
    "name": "ipython",
    "version": 3
   },
   "file_extension": ".py",
   "mimetype": "text/x-python",
   "name": "python",
   "nbconvert_exporter": "python",
   "pygments_lexer": "ipython3",
   "version": "3.7.4"
  }
 },
 "nbformat": 4,
 "nbformat_minor": 2
}
